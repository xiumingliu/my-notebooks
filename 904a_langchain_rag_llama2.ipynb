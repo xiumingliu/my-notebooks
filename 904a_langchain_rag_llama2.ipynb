{
 "cells": [
  {
   "cell_type": "markdown",
   "id": "142e7885",
   "metadata": {},
   "source": [
    "# Wikipedia-based Q&A using conversational RAG"
   ]
  },
  {
   "cell_type": "code",
   "execution_count": 1,
   "id": "3c42a5a9",
   "metadata": {},
   "outputs": [
    {
     "name": "stdout",
     "output_type": "stream",
     "text": [
      "Requirement already satisfied: lxml in /Users/xiumingliu/miniforge3/envs/myenv/lib/python3.10/site-packages (5.1.0)\r\n"
     ]
    }
   ],
   "source": [
    "!pip install lxml"
   ]
  },
  {
   "cell_type": "code",
   "execution_count": 2,
   "id": "ecfec2d4",
   "metadata": {},
   "outputs": [],
   "source": [
    "from langchain_text_splitters import HTMLHeaderTextSplitter\n",
    "from langchain_text_splitters import RecursiveCharacterTextSplitter\n",
    "\n",
    "url = \"https://en.wikipedia.org/wiki/Uppsala_University\"\n",
    "\n",
    "# Specify which headers to split on \n",
    "headers_to_split_on = [\n",
    "    (\"h1\", \"Header 1\"),\n",
    "    (\"h2\", \"Header 2\"),\n",
    "    (\"h3\", \"Header 3\"),\n",
    "    (\"h4\", \"Header 4\"),\n",
    "]\n",
    "\n",
    "html_splitter = HTMLHeaderTextSplitter(headers_to_split_on=headers_to_split_on)\n",
    "\n",
    "# The splited html file based on the above headers\n",
    "html_header_splits = html_splitter.split_text_from_url(url)\n",
    "\n",
    "# When chunk_size = 500, len(document_splits) = 159 for UU wikipage \n",
    "# chunk_size = 5000 \n",
    "# chunk_overlap = 30\n",
    "# text_splitter = RecursiveCharacterTextSplitter(\n",
    "#    chunk_size=chunk_size, chunk_overlap=chunk_overlap\n",
    "# )\n",
    "\n",
    "# The final splited document\n",
    "# document_splits = text_splitter.split_documents(html_header_splits)"
   ]
  },
  {
   "cell_type": "code",
   "execution_count": 3,
   "id": "736865a2",
   "metadata": {},
   "outputs": [
    {
     "name": "stdout",
     "output_type": "stream",
     "text": [
      "page_content=\"As with most medieval universities, Uppsala University initially grew out of an ecclesiastical centre.[10] The archbishop of Uppsala had been one of the most important sees in Sweden proper since Christianity first spread to this region in the ninth century. Uppsala had also long been a hub for regional trade and had contained settlements dating back into the deep Middle Ages. As was also the case with most medieval universities, Uppsala had initially been chartered through a papal bull. Uppsala's bull, which granted the university its corporate rights, was issued by Pope Sixtus IV in 1477 and established several provisions. Among the most important of these was that the university was officially given the same freedoms and privileges as the University of Bologna. This included the right to establish the four traditional faculties of theology, law (Canon Law and Roman law), medicine, and philosophy, and to award the bachelor's, master's, licentiate, and doctoral degrees. The archbishop of Uppsala was also named as the university's Chancellor and was charged with maintaining the rights and privileges of the university and its members.[9]\" metadata={'Header 1': 'Uppsala University', 'Header 2': 'History[edit]', 'Header 3': '15th century: Origins[edit]'}\n"
     ]
    }
   ],
   "source": [
    "print(html_header_splits[3])"
   ]
  },
  {
   "cell_type": "code",
   "execution_count": 4,
   "id": "12a3374f",
   "metadata": {},
   "outputs": [
    {
     "data": {
      "text/plain": [
       "41"
      ]
     },
     "execution_count": 4,
     "metadata": {},
     "output_type": "execute_result"
    }
   ],
   "source": [
    "len(html_header_splits)"
   ]
  },
  {
   "cell_type": "code",
   "execution_count": 5,
   "id": "57799491",
   "metadata": {},
   "outputs": [],
   "source": [
    "#print(document_splits[20:25])"
   ]
  },
  {
   "cell_type": "code",
   "execution_count": 6,
   "id": "5eb520ca",
   "metadata": {},
   "outputs": [],
   "source": [
    "# len(document_splits)"
   ]
  },
  {
   "cell_type": "code",
   "execution_count": 7,
   "id": "4f494ee3",
   "metadata": {},
   "outputs": [],
   "source": [
    "from langchain_community.embeddings import OllamaEmbeddings\n",
    "\n",
    "embeddings = OllamaEmbeddings(model=\"llama2\")"
   ]
  },
  {
   "cell_type": "code",
   "execution_count": 8,
   "id": "34288635",
   "metadata": {},
   "outputs": [],
   "source": [
    "from langchain_community.vectorstores import FAISS\n",
    "\n",
    "vector = FAISS.from_documents(html_header_splits, embeddings)"
   ]
  },
  {
   "cell_type": "code",
   "execution_count": 9,
   "id": "049b8439",
   "metadata": {},
   "outputs": [],
   "source": [
    "from langchain_community.llms import Ollama\n",
    "\n",
    "llm = Ollama(model=\"llama2\")"
   ]
  },
  {
   "cell_type": "code",
   "execution_count": 10,
   "id": "8bcb2656",
   "metadata": {},
   "outputs": [
    {
     "data": {
      "text/plain": [
       "\"\\nUppsala University is a multi-national university, with students and staff from all over the world. While the exact number of nations represented at the university can vary depending on the academic year, I can provide you with some general information on the diversity of the student body at Uppsala University.\\n\\nAccording to the university's website, international students make up around 20% of the student population. The largest groups of international students come from:\\n\\n1. Sweden: The majority of students at Uppsala University are Swedish citizens.\\n2. Europe: Students from other European countries, such as Norway, Denmark, Finland, and Germany, make up a significant proportion of the student body.\\n3. Asia: Students from countries such as China, Japan, South Korea, and India also attend Uppsala University.\\n4. Africa: Students from countries such as Nigeria, Ghana, and Kenya are represented at the university.\\n5. Other regions: Uppsala University also attracts students from other regions of the world, including the Americas, the Middle East, and Oceania.\\n\\nIt's worth noting that the makeup of the student body can vary depending on the specific program or department within the university. Some programs may have a more international focus, while others may have a more domestic focus.\""
      ]
     },
     "execution_count": 10,
     "metadata": {},
     "output_type": "execute_result"
    }
   ],
   "source": [
    "llm.invoke(\"How many nations are there at Uppsala University?\")"
   ]
  },
  {
   "cell_type": "code",
   "execution_count": 11,
   "id": "30def832",
   "metadata": {},
   "outputs": [],
   "source": [
    "from langchain_core.prompts import ChatPromptTemplate\n",
    "from langchain.chains import create_history_aware_retriever\n",
    "from langchain_core.prompts import MessagesPlaceholder \n",
    "\n",
    "\n",
    "# Frist we need a prompt that we can pass into an LLM to generate this search query\n",
    "prompt_search_query = ChatPromptTemplate.from_messages([\n",
    "    MessagesPlaceholder(variable_name=\"chat_history\"),\n",
    "    (\"user\", \"{input}\"), \n",
    "    (\"user\", \"Given the above conversation, generate a search query to look up in order to get information relevant to the conversation\")\n",
    "])\n",
    "\n",
    "retriever = vector.as_retriever()\n",
    "\n",
    "# A new chain takes in the most recent input and the coversation history and use an LLM to generate a search query\n",
    "retriever_chain = create_history_aware_retriever(llm, retriever, prompt_search_query)"
   ]
  },
  {
   "cell_type": "code",
   "execution_count": 12,
   "id": "3922821d",
   "metadata": {},
   "outputs": [
    {
     "data": {
      "text/plain": [
       "[Document(page_content=\"Uppsala University also hosts the Forum for South Asia Studies, a collaborative academic effort by its six faculties: Theology, Law, History and Philosophy, Social Sciences, Languages, and Educational Sciences. The Forum aims to facilitate and promote research and education related to the South Asian countries: India, Pakistan, Sri Lanka, Nepal, Bangladesh, Maldives and Afghanistan, on the national and international level, with Ferdinando Sardella, Faculty of Theology, serving as the Forum's director.[17]\", metadata={'Header 1': 'Uppsala University', 'Header 2': 'Administration and organisation[edit]', 'Header 3': 'Faculties[edit]', 'Header 4': 'Other[edit]'}),\n",
       " Document(page_content='Through the division of faculties and the addition of a previously independent school of Pharmacy as a new faculty, the traditional four-faculty organization of European universities has evolved into the present nine faculties. The disciplinary domains and their faculties are as depicted below.[14][15]', metadata={'Header 1': 'Uppsala University', 'Header 2': 'Administration and organisation[edit]', 'Header 3': 'Faculties[edit]'}),\n",
       " Document(page_content=\"Uppsala University has signed student exchange agreements with about 400 universities across all parts of the world.[40] It takes part in the Erasmus programme and the Nordplus programme. It also benefits from its membership in the Coimbra Group of universities.  \\nIn May 2010 Uppsala joined the Matariki Network of Universities (MNU) together with Dartmouth College (USA), Durham University (UK), Queen's University (Canada), University of Otago (New Zealand), University of Tübingen (Germany), and University of Western Australia (Australia).[41]\", metadata={'Header 1': 'Uppsala University', 'Header 2': 'International cooperation[edit]'}),\n",
       " Document(page_content='Up until June 2010, students at Uppsala University were obliged to become members of one of the nations, corporations of students traditionally according to the province of origin (not strictly upheld now, for practical reasons). The system of dividing students into nations according to origin can ultimately be traced back to the nations at the medieval University of Paris and other early medieval universities, but the Uppsala nations appear only about 1630–1640, most likely under influence of the Landsmannschaften which existed at some of the German universities visited by Swedish students. In Sweden, nations exist only in Uppsala and Lund. The nations were originally seen as subversive organisations promoting less virtuous aspects of student life, but in 1663 the consistory made membership in a nation legal, each nation being placed under the inspectorship of a professor.  \\nThe current thirteen nations all have a history stretching back to the early-to-mid 17th century, but some of them are the result of mergers of older, smaller nations that took place in the early 19th century to facilitate the financing of building projects.  \\nThe nations at Uppsala University are:  \\nStockholms nation Uplands nation Gästrike-Hälsinge nation Östgöta nation Västgöta nation  \\nSödermanlands-Nerikes nation Västmanlands-Dala nation Smålands nation Göteborgs nation Kalmar nation  \\nVärmlands nation Norrlands nation Gotlands nation  \\nSince the 1960s there is a fourteenth nation, the Skånelandens nation (referring to the Scanian lands) which has no membership fee and exists as a legal device to get around the compulsory membership for students who prefer not to become affiliated with the traditional nations. However, this nation was made redundant in 2010, when membership in a nation ceased to be mandatory.  \\nThe Uppsala Student Union was founded in 1849 as a corporation representing all students, irrespective of nation. The pharmaceutical institute became integrated in Uppsala university during 1968 and formed the Faculty of Pharmacy at Uppsala University, and the pharmaceutical educations moved to Uppsala university during 1972. At the same time, the Pharmaceutical Student Union (Pharmaceutical Association of Uppsala Students) became a Student Union at Uppsala University. The students at the faculty of Pharmacy were also exempt from compulsory membership in the nations, but most pharmacy students belonged to one. However, they were obliged to take up membership in the Pharmaceutical Student Union, an organisation having the same role as the nations and Uppsala Student union at the rest of the university.  \\nThe compulsory membership in a student union was abolished on 1 July 2010; however, the unions will still be representing organisations in the university boards and committees. The status as a student union will be decided upon by the university board for periods of three years at a time. On 20 February 2013, the university board decided that there will be four student unions at the university from July 2013 – June 2016: the Uppsala Student Union (for students at the faculties of Art, Social Sciences, Languages, Theology, Law, Educational Sciences and Medicine), the Pharmaceutical Student Union (for students at the Faculty of Pharmacy), the Uppsala Union of Engineering and Science Students (at the Faculty of Science and Technology), and Rindi (the union for students at Campus Gotland).[21] In February 2016, two additional associations were given the status as student unions: Uppsala Business & Economics Students Association (for students of economics) and Uppsala Law Student Associations (for students of law).[22] Thus, there are now six student unions at Uppsala university.[23]', metadata={'Header 1': 'Uppsala University', 'Header 2': 'Student life[edit]', 'Header 3': 'Nations and student union[edit]'})]"
      ]
     },
     "execution_count": 12,
     "metadata": {},
     "output_type": "execute_result"
    }
   ],
   "source": [
    "# Test retriever chain\n",
    "retriever_chain.invoke({\n",
    "   \"chat_history\": [], \n",
    "   \"input\": \"How many nations are there at Uppsala University?\"\n",
    "})"
   ]
  },
  {
   "cell_type": "code",
   "execution_count": 13,
   "id": "b34a5110",
   "metadata": {},
   "outputs": [],
   "source": [
    "from langchain.chains import create_retrieval_chain\n",
    "from langchain.chains.combine_documents import create_stuff_documents_chain\n",
    "\n",
    "# Create a new chain to continue the conversation with these retrieved documents in mind\n",
    "prompt_answer = ChatPromptTemplate.from_messages([\n",
    "    (\"system\", \"Answer the user's quesitions based on the below context:\\n\\n{context}\"), \n",
    "    MessagesPlaceholder(variable_name=\"chat_history\"),\n",
    "    (\"user\", \"{input}\"),\n",
    "])\n",
    "document_chain = create_stuff_documents_chain(llm, prompt_answer)\n",
    "\n",
    "retrieval_chain = create_retrieval_chain(retriever_chain, document_chain)"
   ]
  },
  {
   "cell_type": "code",
   "execution_count": 14,
   "id": "7d299dc1",
   "metadata": {},
   "outputs": [
    {
     "name": "stdout",
     "output_type": "stream",
     "text": [
      "Based on the information provided in the text, there are 13 nations at Uppsala University. These include:\n",
      "\n",
      "1. Stockholms nation\n",
      "2. Uplands nation\n",
      "3. Gästrike-Hälsinge nation\n",
      "4. Östgöta nation\n",
      "5. Västgöta nation\n",
      "6. Södermanlands-Nerikes nation\n",
      "7. Västmanlands-Dala nation\n",
      "8. Smålands nation\n",
      "9. Göteborgs nation\n",
      "10. Kalmar nation\n",
      "11. Värmlands nation\n",
      "12. Norrlands nation\n",
      "13. Gotlands nation\n"
     ]
    }
   ],
   "source": [
    "from langchain_core.messages import AIMessage, HumanMessage\n",
    "\n",
    "chat_history = []\n",
    "human_input = \"How many nations are there at Uppsala University?\"\n",
    "\n",
    "ai_msg = retrieval_chain.invoke({\n",
    "    \"chat_history\": chat_history,\n",
    "    \"input\": human_input})\n",
    "print(ai_msg[\"answer\"])\n",
    "\n",
    "chat_history.extend([HumanMessage(content=human_input), AIMessage(content=ai_msg['answer'])])"
   ]
  },
  {
   "cell_type": "code",
   "execution_count": 15,
   "id": "e3413ea6",
   "metadata": {},
   "outputs": [
    {
     "data": {
      "text/plain": [
       "[HumanMessage(content='How many nations are there at Uppsala University?'),\n",
       " AIMessage(content='Based on the information provided in the text, there are 13 nations at Uppsala University. These include:\\n\\n1. Stockholms nation\\n2. Uplands nation\\n3. Gästrike-Hälsinge nation\\n4. Östgöta nation\\n5. Västgöta nation\\n6. Södermanlands-Nerikes nation\\n7. Västmanlands-Dala nation\\n8. Smålands nation\\n9. Göteborgs nation\\n10. Kalmar nation\\n11. Värmlands nation\\n12. Norrlands nation\\n13. Gotlands nation')]"
      ]
     },
     "execution_count": 15,
     "metadata": {},
     "output_type": "execute_result"
    }
   ],
   "source": [
    "chat_history"
   ]
  },
  {
   "cell_type": "code",
   "execution_count": 16,
   "id": "88c20107",
   "metadata": {},
   "outputs": [
    {
     "data": {
      "text/plain": [
       "[Document(page_content=\"Uppsala University also hosts the Forum for South Asia Studies, a collaborative academic effort by its six faculties: Theology, Law, History and Philosophy, Social Sciences, Languages, and Educational Sciences. The Forum aims to facilitate and promote research and education related to the South Asian countries: India, Pakistan, Sri Lanka, Nepal, Bangladesh, Maldives and Afghanistan, on the national and international level, with Ferdinando Sardella, Faculty of Theology, serving as the Forum's director.[17]\", metadata={'Header 1': 'Uppsala University', 'Header 2': 'Administration and organisation[edit]', 'Header 3': 'Faculties[edit]', 'Header 4': 'Other[edit]'}),\n",
       " Document(page_content='Through the division of faculties and the addition of a previously independent school of Pharmacy as a new faculty, the traditional four-faculty organization of European universities has evolved into the present nine faculties. The disciplinary domains and their faculties are as depicted below.[14][15]', metadata={'Header 1': 'Uppsala University', 'Header 2': 'Administration and organisation[edit]', 'Header 3': 'Faculties[edit]'}),\n",
       " Document(page_content='QS Rankings by Subject 2023:[38]  \\nQS Rankings by Broad Subject Area 2023:  \\nTimes Higher Education Rankings by Subject 2023:', metadata={'Header 1': 'Uppsala University', 'Header 2': 'Rankings[edit]', 'Header 3': 'Rankings by subject/area[edit]'}),\n",
       " Document(page_content='Like many cities, there is a shortage of housing in Uppsala, a problem which has existed for many years. Both native Swedes and foreign students are finding it difficult to find accommodation when first enrolling on the university.[24][25] This problem is however not as bad as it was with several major housing construction projects having been completed after 2010.[citation needed]  \\nThere has never been a custom in Sweden for the universities to arrange housing for students, in fact, universities are by law not allowed to own housing. Students are expected to set their own living accommodations on the private market. To make it easier for students to find moderately priced housing, special student rooms and student apartments have been built by the student nations and student unions. However, the student housing is insufficient to accommodate all students. About 40,000 students are eligible to live in the 11,000 available rooms and apartments.[26] Because of the low rent in these apartments and the general lack of housing in Uppsala the student apartments are highly attractive and many try to hold on to the contracts as long as possible even after graduating.[27]', metadata={'Header 1': 'Uppsala University', 'Header 2': 'Student life[edit]', 'Header 3': 'Housing crisis[edit]'})]"
      ]
     },
     "execution_count": 16,
     "metadata": {},
     "output_type": "execute_result"
    }
   ],
   "source": [
    "# Test retriever chain\n",
    "retriever_chain.invoke({\n",
    "   \"chat_history\": chat_history, \n",
    "       \"input\": \"Is it mandatory to join a nation?\"\n",
    "})"
   ]
  },
  {
   "cell_type": "code",
   "execution_count": 17,
   "id": "adeb7064",
   "metadata": {},
   "outputs": [
    {
     "name": "stdout",
     "output_type": "stream",
     "text": [
      "AI: According to the text, joining a nation is not mandatory for students at Uppsala University. It states that \"The traditional four-faculty organization of European universities has evolved into the present nine faculties\" and \"The disciplinary domains and their faculties are as depicted below,\" without mentioning any requirement to join a nation. Therefore, it is not mandatory to join a nation at Uppsala University.\n"
     ]
    }
   ],
   "source": [
    "human_input = \"Is it mandatory to join a nation?\"\n",
    "\n",
    "ai_msg = retrieval_chain.invoke({\n",
    "    \"chat_history\": chat_history,\n",
    "    \"input\": human_input})\n",
    "print(ai_msg[\"answer\"])\n",
    "\n",
    "chat_history.extend([HumanMessage(content=human_input), AIMessage(content=ai_msg['answer'])])"
   ]
  },
  {
   "cell_type": "code",
   "execution_count": 18,
   "id": "ea4e80ce",
   "metadata": {},
   "outputs": [
    {
     "data": {
      "text/plain": [
       "[HumanMessage(content='How many nations are there at Uppsala University?'),\n",
       " AIMessage(content='Based on the information provided in the text, there are 13 nations at Uppsala University. These include:\\n\\n1. Stockholms nation\\n2. Uplands nation\\n3. Gästrike-Hälsinge nation\\n4. Östgöta nation\\n5. Västgöta nation\\n6. Södermanlands-Nerikes nation\\n7. Västmanlands-Dala nation\\n8. Smålands nation\\n9. Göteborgs nation\\n10. Kalmar nation\\n11. Värmlands nation\\n12. Norrlands nation\\n13. Gotlands nation'),\n",
       " HumanMessage(content='Is it mandatory to join a nation?'),\n",
       " AIMessage(content='AI: According to the text, joining a nation is not mandatory for students at Uppsala University. It states that \"The traditional four-faculty organization of European universities has evolved into the present nine faculties\" and \"The disciplinary domains and their faculties are as depicted below,\" without mentioning any requirement to join a nation. Therefore, it is not mandatory to join a nation at Uppsala University.')]"
      ]
     },
     "execution_count": 18,
     "metadata": {},
     "output_type": "execute_result"
    }
   ],
   "source": [
    "chat_history"
   ]
  },
  {
   "cell_type": "code",
   "execution_count": 19,
   "id": "973f67fa",
   "metadata": {},
   "outputs": [
    {
     "name": "stdout",
     "output_type": "stream",
     "text": [
      "The information provided in the text does not mention when the compulsory membership of nations ended at Uppsala University. In fact, the text does not provide any information on the topic of compulsory membership of nations at all. Therefore, I cannot answer this question based on the information provided.\n"
     ]
    }
   ],
   "source": [
    "human_input = \"When did the compulsory membership end?\"\n",
    "\n",
    "ai_msg = retrieval_chain.invoke({\n",
    "    \"chat_history\": chat_history,\n",
    "    \"input\": human_input})\n",
    "print(ai_msg[\"answer\"])\n",
    "\n",
    "chat_history.extend([HumanMessage(content=human_input), AIMessage(content=ai_msg['answer'])])"
   ]
  },
  {
   "cell_type": "code",
   "execution_count": null,
   "id": "e23962fb",
   "metadata": {},
   "outputs": [],
   "source": []
  }
 ],
 "metadata": {
  "kernelspec": {
   "display_name": "Python 3 (ipykernel)",
   "language": "python",
   "name": "python3"
  },
  "language_info": {
   "codemirror_mode": {
    "name": "ipython",
    "version": 3
   },
   "file_extension": ".py",
   "mimetype": "text/x-python",
   "name": "python",
   "nbconvert_exporter": "python",
   "pygments_lexer": "ipython3",
   "version": "3.10.2"
  }
 },
 "nbformat": 4,
 "nbformat_minor": 5
}
