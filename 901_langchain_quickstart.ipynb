{
 "cells": [
  {
   "cell_type": "code",
   "execution_count": 1,
   "id": "073be797",
   "metadata": {},
   "outputs": [
    {
     "name": "stdout",
     "output_type": "stream",
     "text": [
      "Requirement already satisfied: langchain in /Users/xiumingliu/miniforge3/envs/myenv/lib/python3.10/site-packages (0.1.10)\n",
      "Collecting langchain\n",
      "  Downloading langchain-0.1.12-py3-none-any.whl (809 kB)\n",
      "\u001b[2K     \u001b[90m━━━━━━━━━━━━━━━━━━━━━━━━━━━━━━━━━━━━━━━\u001b[0m \u001b[32m809.1/809.1 KB\u001b[0m \u001b[31m8.2 MB/s\u001b[0m eta \u001b[36m0:00:00\u001b[0m00:01\u001b[0m00:01\u001b[0m\n",
      "\u001b[?25hRequirement already satisfied: pydantic<3,>=1 in /Users/xiumingliu/miniforge3/envs/myenv/lib/python3.10/site-packages (from langchain) (2.5.2)\n",
      "Requirement already satisfied: numpy<2,>=1 in /Users/xiumingliu/miniforge3/envs/myenv/lib/python3.10/site-packages (from langchain) (1.22.2)\n",
      "Requirement already satisfied: async-timeout<5.0.0,>=4.0.0 in /Users/xiumingliu/miniforge3/envs/myenv/lib/python3.10/site-packages (from langchain) (4.0.3)\n",
      "Collecting langchain-community<0.1,>=0.0.28\n",
      "  Downloading langchain_community-0.0.28-py3-none-any.whl (1.8 MB)\n",
      "\u001b[2K     \u001b[90m━━━━━━━━━━━━━━━━━━━━━━━━━━━━━━━━━━━━━━━━\u001b[0m \u001b[32m1.8/1.8 MB\u001b[0m \u001b[31m11.1 MB/s\u001b[0m eta \u001b[36m0:00:00\u001b[0m00:01\u001b[0m00:01\u001b[0m\n",
      "\u001b[?25hCollecting langsmith<0.2.0,>=0.1.17\n",
      "  Downloading langsmith-0.1.31-py3-none-any.whl (71 kB)\n",
      "\u001b[2K     \u001b[90m━━━━━━━━━━━━━━━━━━━━━━━━━━━━━━━━━━━━━━━━\u001b[0m \u001b[32m71.6/71.6 KB\u001b[0m \u001b[31m2.7 MB/s\u001b[0m eta \u001b[36m0:00:00\u001b[0m\n",
      "\u001b[?25hRequirement already satisfied: aiohttp<4.0.0,>=3.8.3 in /Users/xiumingliu/miniforge3/envs/myenv/lib/python3.10/site-packages (from langchain) (3.9.1)\n",
      "Requirement already satisfied: PyYAML>=5.3 in /Users/xiumingliu/miniforge3/envs/myenv/lib/python3.10/site-packages (from langchain) (6.0.1)\n",
      "Requirement already satisfied: requests<3,>=2 in /Users/xiumingliu/miniforge3/envs/myenv/lib/python3.10/site-packages (from langchain) (2.31.0)\n",
      "Requirement already satisfied: SQLAlchemy<3,>=1.4 in /Users/xiumingliu/miniforge3/envs/myenv/lib/python3.10/site-packages (from langchain) (2.0.23)\n",
      "Requirement already satisfied: dataclasses-json<0.7,>=0.5.7 in /Users/xiumingliu/miniforge3/envs/myenv/lib/python3.10/site-packages (from langchain) (0.6.3)\n",
      "Requirement already satisfied: jsonpatch<2.0,>=1.33 in /Users/xiumingliu/miniforge3/envs/myenv/lib/python3.10/site-packages (from langchain) (1.33)\n",
      "Requirement already satisfied: tenacity<9.0.0,>=8.1.0 in /Users/xiumingliu/miniforge3/envs/myenv/lib/python3.10/site-packages (from langchain) (8.2.3)\n",
      "Collecting langchain-core<0.2.0,>=0.1.31\n",
      "  Downloading langchain_core-0.1.32-py3-none-any.whl (260 kB)\n",
      "\u001b[2K     \u001b[90m━━━━━━━━━━━━━━━━━━━━━━━━━━━━━━━━━━━━━━━\u001b[0m \u001b[32m260.9/260.9 KB\u001b[0m \u001b[31m7.5 MB/s\u001b[0m eta \u001b[36m0:00:00\u001b[0m\n",
      "\u001b[?25hRequirement already satisfied: langchain-text-splitters<0.1,>=0.0.1 in /Users/xiumingliu/miniforge3/envs/myenv/lib/python3.10/site-packages (from langchain) (0.0.1)\n",
      "Requirement already satisfied: aiosignal>=1.1.2 in /Users/xiumingliu/miniforge3/envs/myenv/lib/python3.10/site-packages (from aiohttp<4.0.0,>=3.8.3->langchain) (1.3.1)\n",
      "Requirement already satisfied: attrs>=17.3.0 in /Users/xiumingliu/miniforge3/envs/myenv/lib/python3.10/site-packages (from aiohttp<4.0.0,>=3.8.3->langchain) (21.4.0)\n",
      "Requirement already satisfied: multidict<7.0,>=4.5 in /Users/xiumingliu/miniforge3/envs/myenv/lib/python3.10/site-packages (from aiohttp<4.0.0,>=3.8.3->langchain) (6.0.4)\n",
      "Requirement already satisfied: frozenlist>=1.1.1 in /Users/xiumingliu/miniforge3/envs/myenv/lib/python3.10/site-packages (from aiohttp<4.0.0,>=3.8.3->langchain) (1.4.0)\n",
      "Requirement already satisfied: yarl<2.0,>=1.0 in /Users/xiumingliu/miniforge3/envs/myenv/lib/python3.10/site-packages (from aiohttp<4.0.0,>=3.8.3->langchain) (1.9.3)\n",
      "Requirement already satisfied: marshmallow<4.0.0,>=3.18.0 in /Users/xiumingliu/miniforge3/envs/myenv/lib/python3.10/site-packages (from dataclasses-json<0.7,>=0.5.7->langchain) (3.20.1)\n",
      "Requirement already satisfied: typing-inspect<1,>=0.4.0 in /Users/xiumingliu/miniforge3/envs/myenv/lib/python3.10/site-packages (from dataclasses-json<0.7,>=0.5.7->langchain) (0.9.0)\n",
      "Requirement already satisfied: jsonpointer>=1.9 in /Users/xiumingliu/miniforge3/envs/myenv/lib/python3.10/site-packages (from jsonpatch<2.0,>=1.33->langchain) (2.4)\n",
      "Requirement already satisfied: packaging<24.0,>=23.2 in /Users/xiumingliu/miniforge3/envs/myenv/lib/python3.10/site-packages (from langchain-core<0.2.0,>=0.1.31->langchain) (23.2)\n",
      "Requirement already satisfied: anyio<5,>=3 in /Users/xiumingliu/miniforge3/envs/myenv/lib/python3.10/site-packages (from langchain-core<0.2.0,>=0.1.31->langchain) (3.7.1)\n",
      "Requirement already satisfied: orjson<4.0.0,>=3.9.14 in /Users/xiumingliu/miniforge3/envs/myenv/lib/python3.10/site-packages (from langsmith<0.2.0,>=0.1.17->langchain) (3.9.15)\n",
      "Requirement already satisfied: annotated-types>=0.4.0 in /Users/xiumingliu/miniforge3/envs/myenv/lib/python3.10/site-packages (from pydantic<3,>=1->langchain) (0.6.0)\n",
      "Requirement already satisfied: pydantic-core==2.14.5 in /Users/xiumingliu/miniforge3/envs/myenv/lib/python3.10/site-packages (from pydantic<3,>=1->langchain) (2.14.5)\n",
      "Requirement already satisfied: typing-extensions>=4.6.1 in /Users/xiumingliu/miniforge3/envs/myenv/lib/python3.10/site-packages (from pydantic<3,>=1->langchain) (4.8.0)\n",
      "Requirement already satisfied: certifi>=2017.4.17 in /Users/xiumingliu/miniforge3/envs/myenv/lib/python3.10/site-packages (from requests<3,>=2->langchain) (2021.10.8)\n",
      "Requirement already satisfied: idna<4,>=2.5 in /Users/xiumingliu/miniforge3/envs/myenv/lib/python3.10/site-packages (from requests<3,>=2->langchain) (3.6)\n",
      "Requirement already satisfied: urllib3<3,>=1.21.1 in /Users/xiumingliu/miniforge3/envs/myenv/lib/python3.10/site-packages (from requests<3,>=2->langchain) (2.1.0)\n",
      "Requirement already satisfied: charset-normalizer<4,>=2 in /Users/xiumingliu/miniforge3/envs/myenv/lib/python3.10/site-packages (from requests<3,>=2->langchain) (3.3.2)\n",
      "Requirement already satisfied: exceptiongroup in /Users/xiumingliu/miniforge3/envs/myenv/lib/python3.10/site-packages (from anyio<5,>=3->langchain-core<0.2.0,>=0.1.31->langchain) (1.2.0)\n",
      "Requirement already satisfied: sniffio>=1.1 in /Users/xiumingliu/miniforge3/envs/myenv/lib/python3.10/site-packages (from anyio<5,>=3->langchain-core<0.2.0,>=0.1.31->langchain) (1.3.0)\n",
      "Requirement already satisfied: mypy-extensions>=0.3.0 in /Users/xiumingliu/miniforge3/envs/myenv/lib/python3.10/site-packages (from typing-inspect<1,>=0.4.0->dataclasses-json<0.7,>=0.5.7->langchain) (0.4.3)\n",
      "Installing collected packages: langsmith, langchain-core, langchain-community, langchain\n",
      "  Attempting uninstall: langsmith\n",
      "    Found existing installation: langsmith 0.1.13\n",
      "    Uninstalling langsmith-0.1.13:\n",
      "      Successfully uninstalled langsmith-0.1.13\n",
      "  Attempting uninstall: langchain-core\n",
      "    Found existing installation: langchain-core 0.1.28\n",
      "    Uninstalling langchain-core-0.1.28:\n",
      "      Successfully uninstalled langchain-core-0.1.28\n",
      "  Attempting uninstall: langchain-community\n",
      "    Found existing installation: langchain-community 0.0.25\n",
      "    Uninstalling langchain-community-0.0.25:\n",
      "      Successfully uninstalled langchain-community-0.0.25\n",
      "  Attempting uninstall: langchain\n",
      "    Found existing installation: langchain 0.1.10\n",
      "    Uninstalling langchain-0.1.10:\n",
      "      Successfully uninstalled langchain-0.1.10\n",
      "Successfully installed langchain-0.1.12 langchain-community-0.0.28 langchain-core-0.1.32 langsmith-0.1.31\n"
     ]
    }
   ],
   "source": [
    "!pip install -U langchain"
   ]
  },
  {
   "cell_type": "code",
   "execution_count": 2,
   "id": "eb5d119f",
   "metadata": {},
   "outputs": [
    {
     "name": "stdout",
     "output_type": "stream",
     "text": [
      "Requirement already satisfied: langchain-openai in /Users/xiumingliu/miniforge3/envs/myenv/lib/python3.10/site-packages (0.0.8)\n",
      "Requirement already satisfied: tiktoken<1,>=0.5.2 in /Users/xiumingliu/miniforge3/envs/myenv/lib/python3.10/site-packages (from langchain-openai) (0.6.0)\n",
      "Requirement already satisfied: openai<2.0.0,>=1.10.0 in /Users/xiumingliu/miniforge3/envs/myenv/lib/python3.10/site-packages (from langchain-openai) (1.13.3)\n",
      "Requirement already satisfied: langchain-core<0.2.0,>=0.1.27 in /Users/xiumingliu/miniforge3/envs/myenv/lib/python3.10/site-packages (from langchain-openai) (0.1.32)\n",
      "Requirement already satisfied: PyYAML>=5.3 in /Users/xiumingliu/miniforge3/envs/myenv/lib/python3.10/site-packages (from langchain-core<0.2.0,>=0.1.27->langchain-openai) (6.0.1)\n",
      "Requirement already satisfied: tenacity<9.0.0,>=8.1.0 in /Users/xiumingliu/miniforge3/envs/myenv/lib/python3.10/site-packages (from langchain-core<0.2.0,>=0.1.27->langchain-openai) (8.2.3)\n",
      "Requirement already satisfied: requests<3,>=2 in /Users/xiumingliu/miniforge3/envs/myenv/lib/python3.10/site-packages (from langchain-core<0.2.0,>=0.1.27->langchain-openai) (2.31.0)\n",
      "Requirement already satisfied: jsonpatch<2.0,>=1.33 in /Users/xiumingliu/miniforge3/envs/myenv/lib/python3.10/site-packages (from langchain-core<0.2.0,>=0.1.27->langchain-openai) (1.33)\n",
      "Requirement already satisfied: anyio<5,>=3 in /Users/xiumingliu/miniforge3/envs/myenv/lib/python3.10/site-packages (from langchain-core<0.2.0,>=0.1.27->langchain-openai) (3.7.1)\n",
      "Requirement already satisfied: langsmith<0.2.0,>=0.1.0 in /Users/xiumingliu/miniforge3/envs/myenv/lib/python3.10/site-packages (from langchain-core<0.2.0,>=0.1.27->langchain-openai) (0.1.31)\n",
      "Requirement already satisfied: packaging<24.0,>=23.2 in /Users/xiumingliu/miniforge3/envs/myenv/lib/python3.10/site-packages (from langchain-core<0.2.0,>=0.1.27->langchain-openai) (23.2)\n",
      "Requirement already satisfied: pydantic<3,>=1 in /Users/xiumingliu/miniforge3/envs/myenv/lib/python3.10/site-packages (from langchain-core<0.2.0,>=0.1.27->langchain-openai) (2.5.2)\n",
      "Requirement already satisfied: distro<2,>=1.7.0 in /Users/xiumingliu/miniforge3/envs/myenv/lib/python3.10/site-packages (from openai<2.0.0,>=1.10.0->langchain-openai) (1.9.0)\n",
      "Requirement already satisfied: tqdm>4 in /Users/xiumingliu/miniforge3/envs/myenv/lib/python3.10/site-packages (from openai<2.0.0,>=1.10.0->langchain-openai) (4.66.1)\n",
      "Requirement already satisfied: typing-extensions<5,>=4.7 in /Users/xiumingliu/miniforge3/envs/myenv/lib/python3.10/site-packages (from openai<2.0.0,>=1.10.0->langchain-openai) (4.8.0)\n",
      "Requirement already satisfied: sniffio in /Users/xiumingliu/miniforge3/envs/myenv/lib/python3.10/site-packages (from openai<2.0.0,>=1.10.0->langchain-openai) (1.3.0)\n",
      "Requirement already satisfied: httpx<1,>=0.23.0 in /Users/xiumingliu/miniforge3/envs/myenv/lib/python3.10/site-packages (from openai<2.0.0,>=1.10.0->langchain-openai) (0.27.0)\n",
      "Requirement already satisfied: regex>=2022.1.18 in /Users/xiumingliu/miniforge3/envs/myenv/lib/python3.10/site-packages (from tiktoken<1,>=0.5.2->langchain-openai) (2023.10.3)\n",
      "Requirement already satisfied: idna>=2.8 in /Users/xiumingliu/miniforge3/envs/myenv/lib/python3.10/site-packages (from anyio<5,>=3->langchain-core<0.2.0,>=0.1.27->langchain-openai) (3.6)\n",
      "Requirement already satisfied: exceptiongroup in /Users/xiumingliu/miniforge3/envs/myenv/lib/python3.10/site-packages (from anyio<5,>=3->langchain-core<0.2.0,>=0.1.27->langchain-openai) (1.2.0)\n",
      "Requirement already satisfied: certifi in /Users/xiumingliu/miniforge3/envs/myenv/lib/python3.10/site-packages (from httpx<1,>=0.23.0->openai<2.0.0,>=1.10.0->langchain-openai) (2021.10.8)\n",
      "Requirement already satisfied: httpcore==1.* in /Users/xiumingliu/miniforge3/envs/myenv/lib/python3.10/site-packages (from httpx<1,>=0.23.0->openai<2.0.0,>=1.10.0->langchain-openai) (1.0.4)\n",
      "Requirement already satisfied: h11<0.15,>=0.13 in /Users/xiumingliu/miniforge3/envs/myenv/lib/python3.10/site-packages (from httpcore==1.*->httpx<1,>=0.23.0->openai<2.0.0,>=1.10.0->langchain-openai) (0.14.0)\n",
      "Requirement already satisfied: jsonpointer>=1.9 in /Users/xiumingliu/miniforge3/envs/myenv/lib/python3.10/site-packages (from jsonpatch<2.0,>=1.33->langchain-core<0.2.0,>=0.1.27->langchain-openai) (2.4)\n",
      "Requirement already satisfied: orjson<4.0.0,>=3.9.14 in /Users/xiumingliu/miniforge3/envs/myenv/lib/python3.10/site-packages (from langsmith<0.2.0,>=0.1.0->langchain-core<0.2.0,>=0.1.27->langchain-openai) (3.9.15)\n",
      "Requirement already satisfied: annotated-types>=0.4.0 in /Users/xiumingliu/miniforge3/envs/myenv/lib/python3.10/site-packages (from pydantic<3,>=1->langchain-core<0.2.0,>=0.1.27->langchain-openai) (0.6.0)\n",
      "Requirement already satisfied: pydantic-core==2.14.5 in /Users/xiumingliu/miniforge3/envs/myenv/lib/python3.10/site-packages (from pydantic<3,>=1->langchain-core<0.2.0,>=0.1.27->langchain-openai) (2.14.5)\n",
      "Requirement already satisfied: urllib3<3,>=1.21.1 in /Users/xiumingliu/miniforge3/envs/myenv/lib/python3.10/site-packages (from requests<3,>=2->langchain-core<0.2.0,>=0.1.27->langchain-openai) (2.1.0)\n",
      "Requirement already satisfied: charset-normalizer<4,>=2 in /Users/xiumingliu/miniforge3/envs/myenv/lib/python3.10/site-packages (from requests<3,>=2->langchain-core<0.2.0,>=0.1.27->langchain-openai) (3.3.2)\n"
     ]
    }
   ],
   "source": [
    "!pip install langchain-openai"
   ]
  },
  {
   "cell_type": "markdown",
   "id": "48e449c7",
   "metadata": {},
   "source": [
    "# LLM Chain"
   ]
  },
  {
   "cell_type": "code",
   "execution_count": 1,
   "id": "b34cd79e",
   "metadata": {},
   "outputs": [],
   "source": [
    "from langchain_community.llms import Ollama\n",
    "llm = Ollama(model=\"llama2\")"
   ]
  },
  {
   "cell_type": "code",
   "execution_count": 2,
   "id": "581ecd57",
   "metadata": {},
   "outputs": [
    {
     "data": {
      "text/plain": [
       "'\\nLangSmith is an AI-powered language model that can assist with testing in several ways:\\n\\n1. Automated Testing: LangSmith can be used to generate automated tests for software applications. By using natural language processing and machine learning algorithms, LangSmith can analyze the code and identify potential bugs or errors, allowing developers to focus on writing test cases that cover the most critical areas of the application.\\n2. Code Review: LangSmith can assist in code review by highlighting potential issues in the codebase, such as security vulnerabilities, performance bottlenecks, or coding standards violations. Developers can then review these findings and make necessary adjustments to improve the quality of the code.\\n3. Test Data Generation: LangSmith can generate test data automatically, which can save developers time and effort in creating test cases. By using natural language processing algorithms, LangSmith can understand the requirements of the application and generate test data that covers a wide range of scenarios and inputs.\\n4. Bug Detection: LangSmith can detect potential bugs in the codebase by analyzing the syntax and semantics of the code. Developers can then review these findings and make necessary adjustments to fix the bugs before they become critical issues.\\n5. Code Refactoring: LangSmith can assist in code refactoring by identifying areas of the code that are hard to maintain or difficult to understand. Developers can then refactor these areas to improve the readability and maintainability of the codebase.\\n6. Test Automation Framework Development: LangSmith can help developers create test automation frameworks for their applications. By using natural language processing algorithms, LangSmith can generate test scripts that cover a wide range of scenarios and inputs, making it easier for developers to automate testing.\\n7. Continuous Integration/Continuous Deployment (CI/CD): LangSmith can assist in CI/CD pipelines by generating tests automatically based on changes made to the codebase. This can help ensure that the application is thoroughly tested and deployed quickly and efficiently.\\n8. Performance Testing: LangSmith can be used to generate performance test cases for applications. By using natural language processing algorithms, LangSmith can analyze the code and identify potential performance bottlenecks, allowing developers to optimize the application for better performance.\\n9. Security Testing: LangSmith can assist in security testing by identifying potential vulnerabilities in the codebase. Developers can then review these findings and make necessary adjustments to improve the security of the application.\\n10. Collaboration: LangSmith can facilitate collaboration among developers by providing a platform for discussion and feedback. By using natural language processing algorithms, LangSmith can analyze conversations and identify potential issues or areas for improvement in real-time, allowing developers to work together more effectively.\\n\\nBy leveraging these capabilities, LangSmith can help developers streamline their testing process, improve code quality, and deliver better applications faster.'"
      ]
     },
     "execution_count": 2,
     "metadata": {},
     "output_type": "execute_result"
    }
   ],
   "source": [
    "llm.invoke(\"how can langsmith help with testing?\")"
   ]
  },
  {
   "cell_type": "code",
   "execution_count": 3,
   "id": "06a5ac60",
   "metadata": {},
   "outputs": [],
   "source": [
    "from langchain_core.prompts import ChatPromptTemplate\n",
    "prompt = ChatPromptTemplate.from_messages([\n",
    "    (\"system\", \"You are world class technical documentation writer.\"),\n",
    "    (\"user\", \"{input}\")\n",
    "])"
   ]
  },
  {
   "cell_type": "code",
   "execution_count": 4,
   "id": "c799ad5b",
   "metadata": {},
   "outputs": [],
   "source": [
    "chain = prompt | llm"
   ]
  },
  {
   "cell_type": "code",
   "execution_count": 5,
   "id": "6c2b4a3c",
   "metadata": {},
   "outputs": [
    {
     "data": {
      "text/plain": [
       "\"\\nAs a world-class technical documentation writer, I must say that Langsmith is an incredible tool that can greatly assist with testing. Here are some ways in which Langsmith can help:\\n\\n1. Automated Testing: With Langsmith, you can automate your testing process by generating test cases based on your documentation. This saves time and effort compared to manually writing test cases, ensuring that all possible scenarios are covered.\\n2. Consistency: Langsmith's AI-powered testing tool helps maintain consistency in your test cases, ensuring that the tests are comprehensive and accurate. This reduces the risk of overlooking critical test cases or including unnecessary ones.\\n3. Improved Test Coverage: By analyzing your documentation, Langsmith can identify potential gaps in test coverage and suggest additional test cases to ensure comprehensive testing. This leads to a more robust testing process and fewer chances of missing critical issues.\\n4. Faster Testing Cycles: With Langsmith's automated testing tool, you can accelerate your testing cycles by generating test cases faster than manual writing. This allows you to deliver high-quality products to market quickly and efficiently.\\n5. Better Collaboration: Langsmith enables better collaboration among team members by providing a centralized platform for creating, reviewing, and managing test cases. This improves communication and reduces misunderstandings, ensuring that everyone is on the same page.\\n6. Documentation Analysis: Langsmith's AI-powered analysis can help identify critical sections of your documentation, such as user manuals or API guides, which require more extensive testing. This enables you to focus your testing efforts on the most important areas.\\n7. Cost Savings: By automating testing with Langsmith, you can reduce labor costs associated with manual testing, allowing you to allocate resources to other areas of your business.\\n8. Improved Test Quality: With Langsmith's advanced algorithms and natural language processing capabilities, you can generate high-quality test cases that are more likely to catch errors and bugs earlier in the development cycle. This leads to a better overall quality of your products or services.\\n9. Customizable Test Cases: Langsmith allows you to customize test cases based on your specific requirements, ensuring that your tests are tailored to your unique product or service. This can help identify issues more efficiently and effectively.\\n10. Integration with Other Tools: Langsmith integrates seamlessly with other testing tools and platforms, such as JIRA, TestRail, and Slack, allowing you to streamline your testing workflow and reduce manual effort.\\n\\nIn summary, Langsmith can significantly enhance the testing process by providing automated test case generation, improved test coverage, faster testing cycles, better collaboration, and more comprehensive documentation analysis.\""
      ]
     },
     "execution_count": 5,
     "metadata": {},
     "output_type": "execute_result"
    }
   ],
   "source": [
    "chain.invoke({\"input\": \"how can langsmith help with testing?\"})"
   ]
  },
  {
   "cell_type": "code",
   "execution_count": 6,
   "id": "6fbbb517",
   "metadata": {},
   "outputs": [],
   "source": [
    "from langchain_core.output_parsers import StrOutputParser"
   ]
  },
  {
   "cell_type": "code",
   "execution_count": 7,
   "id": "f5f676e8",
   "metadata": {},
   "outputs": [],
   "source": [
    "output_parser = StrOutputParser()"
   ]
  },
  {
   "cell_type": "code",
   "execution_count": 8,
   "id": "2b563b0e",
   "metadata": {},
   "outputs": [],
   "source": [
    "chain = prompt | llm | output_parser"
   ]
  },
  {
   "cell_type": "code",
   "execution_count": 9,
   "id": "f1931039",
   "metadata": {},
   "outputs": [
    {
     "data": {
      "text/plain": [
       "\"\\nAs a world-class technical documentation writer, I must say that LangSmith is an excellent tool for testing and validating content. Here are some ways in which LangSmith can help with testing:\\n\\n1. Language Analysis: LangSmith's language analysis capabilities can help identify potential issues with the content, such as grammar, spelling, and punctuation errors. By analyzing the text through LangSmith, you can identify areas that require improvement, ensuring that your technical documentation is accurate and error-free.\\n2. Consistency Checking: LangSmith can help ensure consistency in your technical documentation by checking for inconsistencies in terminology, formatting, and styling. This is particularly useful when working on large documents or projects with multiple authors, as it helps maintain a consistent tone and style throughout the content.\\n3. Clarity Evaluation: LangSmith's clarity evaluation feature can help assess the readability of your technical documentation. By analyzing the text for complexity, ambiguity, and other factors that affect readability, LangSmith can provide insights into how easily the content can be understood by the target audience. This helps ensure that your technical documentation is accessible and easy to comprehend.\\n4. Style Guidance: LangSmith's style guidance feature can help you maintain a consistent tone and style throughout your technical documentation. By analyzing the text for language usage, tone, and other stylistic elements, LangSmith can provide recommendations for improvement, helping you create more polished and professional-looking content.\\n5. Collaboration Tools: LangSmith offers collaboration tools that can help streamline the testing process. For example, you can share documents with team members and collaborate in real-time, making it easier to work on large projects or documents with multiple authors.\\n\\nIn summary, LangSmith is an invaluable tool for technical documentation writers, as it helps ensure accuracy, consistency, clarity, and professionalism in the content. By leveraging its language analysis, consistency checking, clarity evaluation, style guidance, and collaboration tools, you can create high-quality technical documentation that meets the needs of your target audience.\""
      ]
     },
     "execution_count": 9,
     "metadata": {},
     "output_type": "execute_result"
    }
   ],
   "source": [
    "chain.invoke({\"input\": \"how can langsmith help with testing?\"})"
   ]
  },
  {
   "cell_type": "markdown",
   "id": "adcd0dab",
   "metadata": {},
   "source": [
    "# Retrieval Chain"
   ]
  },
  {
   "cell_type": "code",
   "execution_count": 10,
   "id": "7acac5ac",
   "metadata": {},
   "outputs": [
    {
     "name": "stdout",
     "output_type": "stream",
     "text": [
      "Requirement already satisfied: beautifulsoup4 in /Users/xiumingliu/miniforge3/envs/myenv/lib/python3.10/site-packages (4.12.3)\r\n",
      "Requirement already satisfied: soupsieve>1.2 in /Users/xiumingliu/miniforge3/envs/myenv/lib/python3.10/site-packages (from beautifulsoup4) (2.5)\r\n"
     ]
    }
   ],
   "source": [
    "!pip install beautifulsoup4"
   ]
  },
  {
   "cell_type": "code",
   "execution_count": 11,
   "id": "ea65289b",
   "metadata": {},
   "outputs": [],
   "source": [
    "from langchain_community.document_loaders import WebBaseLoader\n",
    "loader = WebBaseLoader(\"https://docs.smith.langchain.com/user_guide\")\n",
    "\n",
    "docs = loader.load()"
   ]
  },
  {
   "cell_type": "code",
   "execution_count": 12,
   "id": "92a30051",
   "metadata": {},
   "outputs": [],
   "source": [
    "from langchain_community.embeddings import OllamaEmbeddings\n",
    "\n",
    "embeddings = OllamaEmbeddings()"
   ]
  },
  {
   "cell_type": "code",
   "execution_count": 13,
   "id": "6a5cac95",
   "metadata": {},
   "outputs": [
    {
     "name": "stdout",
     "output_type": "stream",
     "text": [
      "Requirement already satisfied: faiss-cpu in /Users/xiumingliu/miniforge3/envs/myenv/lib/python3.10/site-packages (1.7.4)\r\n"
     ]
    }
   ],
   "source": [
    "!pip install faiss-cpu"
   ]
  },
  {
   "cell_type": "code",
   "execution_count": 14,
   "id": "183c6407",
   "metadata": {},
   "outputs": [
    {
     "name": "stdout",
     "output_type": "stream",
     "text": [
      "Requirement already satisfied: langchain_text_splitters in /Users/xiumingliu/miniforge3/envs/myenv/lib/python3.10/site-packages (0.0.1)\r\n",
      "Requirement already satisfied: langchain-core<0.2.0,>=0.1.28 in /Users/xiumingliu/miniforge3/envs/myenv/lib/python3.10/site-packages (from langchain_text_splitters) (0.1.32)\r\n",
      "Requirement already satisfied: PyYAML>=5.3 in /Users/xiumingliu/miniforge3/envs/myenv/lib/python3.10/site-packages (from langchain-core<0.2.0,>=0.1.28->langchain_text_splitters) (6.0.1)\r\n",
      "Requirement already satisfied: anyio<5,>=3 in /Users/xiumingliu/miniforge3/envs/myenv/lib/python3.10/site-packages (from langchain-core<0.2.0,>=0.1.28->langchain_text_splitters) (3.7.1)\r\n",
      "Requirement already satisfied: requests<3,>=2 in /Users/xiumingliu/miniforge3/envs/myenv/lib/python3.10/site-packages (from langchain-core<0.2.0,>=0.1.28->langchain_text_splitters) (2.31.0)\r\n",
      "Requirement already satisfied: packaging<24.0,>=23.2 in /Users/xiumingliu/miniforge3/envs/myenv/lib/python3.10/site-packages (from langchain-core<0.2.0,>=0.1.28->langchain_text_splitters) (23.2)\r\n",
      "Requirement already satisfied: pydantic<3,>=1 in /Users/xiumingliu/miniforge3/envs/myenv/lib/python3.10/site-packages (from langchain-core<0.2.0,>=0.1.28->langchain_text_splitters) (2.6.4)\r\n",
      "Requirement already satisfied: tenacity<9.0.0,>=8.1.0 in /Users/xiumingliu/miniforge3/envs/myenv/lib/python3.10/site-packages (from langchain-core<0.2.0,>=0.1.28->langchain_text_splitters) (8.2.3)\r\n",
      "Requirement already satisfied: langsmith<0.2.0,>=0.1.0 in /Users/xiumingliu/miniforge3/envs/myenv/lib/python3.10/site-packages (from langchain-core<0.2.0,>=0.1.28->langchain_text_splitters) (0.1.31)\r\n",
      "Requirement already satisfied: jsonpatch<2.0,>=1.33 in /Users/xiumingliu/miniforge3/envs/myenv/lib/python3.10/site-packages (from langchain-core<0.2.0,>=0.1.28->langchain_text_splitters) (1.33)\r\n",
      "Requirement already satisfied: exceptiongroup in /Users/xiumingliu/miniforge3/envs/myenv/lib/python3.10/site-packages (from anyio<5,>=3->langchain-core<0.2.0,>=0.1.28->langchain_text_splitters) (1.2.0)\r\n",
      "Requirement already satisfied: idna>=2.8 in /Users/xiumingliu/miniforge3/envs/myenv/lib/python3.10/site-packages (from anyio<5,>=3->langchain-core<0.2.0,>=0.1.28->langchain_text_splitters) (3.6)\r\n",
      "Requirement already satisfied: sniffio>=1.1 in /Users/xiumingliu/miniforge3/envs/myenv/lib/python3.10/site-packages (from anyio<5,>=3->langchain-core<0.2.0,>=0.1.28->langchain_text_splitters) (1.3.0)\r\n",
      "Requirement already satisfied: jsonpointer>=1.9 in /Users/xiumingliu/miniforge3/envs/myenv/lib/python3.10/site-packages (from jsonpatch<2.0,>=1.33->langchain-core<0.2.0,>=0.1.28->langchain_text_splitters) (2.4)\r\n",
      "Requirement already satisfied: orjson<4.0.0,>=3.9.14 in /Users/xiumingliu/miniforge3/envs/myenv/lib/python3.10/site-packages (from langsmith<0.2.0,>=0.1.0->langchain-core<0.2.0,>=0.1.28->langchain_text_splitters) (3.9.15)\r\n",
      "Requirement already satisfied: typing-extensions>=4.6.1 in /Users/xiumingliu/miniforge3/envs/myenv/lib/python3.10/site-packages (from pydantic<3,>=1->langchain-core<0.2.0,>=0.1.28->langchain_text_splitters) (4.10.0)\r\n",
      "Requirement already satisfied: annotated-types>=0.4.0 in /Users/xiumingliu/miniforge3/envs/myenv/lib/python3.10/site-packages (from pydantic<3,>=1->langchain-core<0.2.0,>=0.1.28->langchain_text_splitters) (0.6.0)\r\n",
      "Requirement already satisfied: pydantic-core==2.16.3 in /Users/xiumingliu/miniforge3/envs/myenv/lib/python3.10/site-packages (from pydantic<3,>=1->langchain-core<0.2.0,>=0.1.28->langchain_text_splitters) (2.16.3)\r\n",
      "Requirement already satisfied: urllib3<3,>=1.21.1 in /Users/xiumingliu/miniforge3/envs/myenv/lib/python3.10/site-packages (from requests<3,>=2->langchain-core<0.2.0,>=0.1.28->langchain_text_splitters) (2.1.0)\r\n",
      "Requirement already satisfied: certifi>=2017.4.17 in /Users/xiumingliu/miniforge3/envs/myenv/lib/python3.10/site-packages (from requests<3,>=2->langchain-core<0.2.0,>=0.1.28->langchain_text_splitters) (2021.10.8)\r\n",
      "Requirement already satisfied: charset-normalizer<4,>=2 in /Users/xiumingliu/miniforge3/envs/myenv/lib/python3.10/site-packages (from requests<3,>=2->langchain-core<0.2.0,>=0.1.28->langchain_text_splitters) (3.3.2)\r\n"
     ]
    }
   ],
   "source": [
    "!pip install langchain_text_splitters"
   ]
  },
  {
   "cell_type": "code",
   "execution_count": 15,
   "id": "c98028f6",
   "metadata": {},
   "outputs": [],
   "source": [
    "from langchain_community.vectorstores import FAISS\n",
    "from langchain_text_splitters import RecursiveCharacterTextSplitter\n",
    "\n",
    "text_splitter = RecursiveCharacterTextSplitter()\n",
    "documents = text_splitter.split_documents(docs)\n",
    "vector = FAISS.from_documents(documents, embeddings)"
   ]
  },
  {
   "cell_type": "code",
   "execution_count": 16,
   "id": "9c48e3f5",
   "metadata": {},
   "outputs": [],
   "source": [
    "from langchain.chains.combine_documents import create_stuff_documents_chain\n",
    "\n",
    "prompt = ChatPromptTemplate.from_template(\"\"\"Answer the following question based only on the provided context: \n",
    "\n",
    "<context>\n",
    "{context}\n",
    "</context>\n",
    "\n",
    "Question: {input}\"\"\")\n",
    "\n",
    "document_chain = create_stuff_documents_chain(llm, prompt)"
   ]
  },
  {
   "cell_type": "code",
   "execution_count": 17,
   "id": "44036e30",
   "metadata": {},
   "outputs": [],
   "source": [
    "from langchain.chains import create_retrieval_chain\n",
    "\n",
    "retriever = vector.as_retriever()\n",
    "retrieval_chain = create_retrieval_chain(retriever, document_chain) "
   ]
  },
  {
   "cell_type": "code",
   "execution_count": 18,
   "id": "42447ef9",
   "metadata": {},
   "outputs": [
    {
     "name": "stdout",
     "output_type": "stream",
     "text": [
      "\n",
      "According to the provided context, LangSmith can help with testing in several ways:\n",
      "\n",
      "1. Creating test cases: LangSmith allows developers to create datasets, which are collections of inputs and reference outputs, and use these to run tests on their LLM applications.\n",
      "2. Debugging: When developing new LLM applications, LangSmith tracing is enabled by default, making it easier to debug where the model is failing. The platform provides clear visibility and debugging information at each step of an LLM sequence.\n",
      "3. Initial test set: LangSmith allows developers to create datasets for initial test cases, which can be uploaded in bulk, created on the fly, or exported from application traces.\n",
      "4. Comparison view: LangSmith provides a user-friendly comparison view for test runs to track and diagnose regressions in test scores across multiple revisions of an application.\n",
      "5. Beta testing: LangSmith supports beta testing, which allows developers to collect more data on how their LLM applications are performing in real-world scenarios. The platform helps gather human feedback on the responses produced by the app and captures feedback scores.\n",
      "6. Annotating traces: LangSmith also supports sending runs to annotation queues, allowing annotators to closely inspect interesting traces and annotate them with respect to different criteria.\n",
      "7. Adding runs to a dataset: As the application progresses through the beta testing phase, LangSmith enables users to add runs as examples to datasets, expanding their test coverage on real-world scenarios.\n",
      "8. Monitoring and A/B testing: LangSmith provides monitoring charts that allow users to track key metrics over time and view metrics for a given period. The platform also allows for tag and metadata grouping, which helps mark different versions of the application with different identifiers and view their performance side-by-side within each chart.\n"
     ]
    }
   ],
   "source": [
    "response = retrieval_chain.invoke({\"input\": \"how can langsmith help with testing?\"})\n",
    "print(response[\"answer\"])"
   ]
  },
  {
   "cell_type": "markdown",
   "id": "82b3cac9",
   "metadata": {},
   "source": [
    "# Conversation Retrieval Chain"
   ]
  },
  {
   "cell_type": "code",
   "execution_count": null,
   "id": "f7cef52d",
   "metadata": {},
   "outputs": [],
   "source": [
    "from langchain.chains import create_history_aware_retriever\n",
    "from langchain_core.prompts import MessagesPlaceholder \n",
    "\n",
    "# Frist we need a prompt that we can pass into an LLM to generate this search query\n",
    "\n",
    "prompt = ChatPromptTemplate.from_messages([\n",
    "    MessagesPlaceholder(variable_name=\"chat_history\"),\n",
    "    (\"user\", \"{input}\"), \n",
    "    (\"user\", \"Given the above conversation, generate a search query to look up in order to get information relevant to the conversation\")\n",
    "])\n",
    "\n",
    "# A new chain takes in the most recent input and the coversation history and use an LLM to generate a search query\n",
    "retriever_chain = create_history_aware_retriever(llm, retriever, prompt)"
   ]
  },
  {
   "cell_type": "code",
   "execution_count": null,
   "id": "b4b5aeba",
   "metadata": {},
   "outputs": [],
   "source": [
    "# Test by using a predefined chat histroy\n",
    "from langchain_core.messages import HumanMessage, AIMessage\n",
    "\n",
    "chat_history = [HumanMessage(content=\"Can LangSmith help test my LLM applications?\"), AIMessage(content=\"Yes!\")]\n",
    "retriever_chain.invoke({\n",
    "    \"chat_history\": chat_history,\n",
    "    \"input\": \"Tell me how\"\n",
    "})"
   ]
  },
  {
   "cell_type": "code",
   "execution_count": null,
   "id": "bd038e4a",
   "metadata": {},
   "outputs": [],
   "source": [
    "# Create a new chain to continue the conversation with these retrieved documents in mind\n",
    "prompt = ChatPromptTemplate.from_messages([\n",
    "    (\"system\", \"Answer the user's quesitions based on the below context:\\n\\n{context}\"), \n",
    "    MessagesPlaceholder(variable_name=\"chat_history\"),\n",
    "    (\"user\", \"{input}\"),\n",
    "])\n",
    "document_chain = create_stuff_documents_chain(llm, prompt)\n",
    "\n",
    "retrieval_chain = create_retrieval_chain(retriever_chain, document_chain)"
   ]
  },
  {
   "cell_type": "code",
   "execution_count": null,
   "id": "c0239295",
   "metadata": {},
   "outputs": [],
   "source": [
    "# End-to-end test"
   ]
  },
  {
   "cell_type": "code",
   "execution_count": null,
   "id": "0a87b959",
   "metadata": {},
   "outputs": [],
   "source": [
    "chat_history = [HumanMessage(content=\"Can LangSmith help test my LLM applications?\"), AIMessage(content=\"Yes!\")]\n",
    "retrieval_chain.invoke({\n",
    "    \"chat_history\": chat_history,\n",
    "    \"input\": \"Tell me how\"\n",
    "})"
   ]
  },
  {
   "cell_type": "markdown",
   "id": "a349234f",
   "metadata": {},
   "source": [
    "# Agent"
   ]
  },
  {
   "cell_type": "code",
   "execution_count": null,
   "id": "601e40ae",
   "metadata": {},
   "outputs": [],
   "source": [
    "!pip install python-dotenv"
   ]
  },
  {
   "cell_type": "code",
   "execution_count": null,
   "id": "6afeeb7a",
   "metadata": {},
   "outputs": [],
   "source": [
    "from dotenv import load_dotenv\n",
    "import os\n",
    "\n",
    "load_dotenv()\n",
    "\n",
    "# Access the Tavily API key\n",
    "TAVILY_API_KEY = os.environ.get(\"TAVILY_API_KEY\")\n",
    "OPENAI_API_KEY = os.environ.get(\"OPENAI_API_KEY\")"
   ]
  },
  {
   "cell_type": "code",
   "execution_count": null,
   "id": "72efd33f",
   "metadata": {},
   "outputs": [],
   "source": [
    "# The retriever tool\n",
    "from langchain.tools.retriever import create_retriever_tool\n",
    "\n",
    "retriever_tool = create_retriever_tool(\n",
    "    retriever, \n",
    "    \"langsmith_search\", \n",
    "    \"Search for information about LangSmith. For any questions about LangSmith, you must use this tool!\", \n",
    ")"
   ]
  },
  {
   "cell_type": "code",
   "execution_count": null,
   "id": "aa6a7d8e",
   "metadata": {},
   "outputs": [],
   "source": [
    "# The Tavily search tool\n",
    "from langchain_community.tools.tavily_search import TavilySearchResults\n",
    "\n",
    "search = TavilySearchResults()"
   ]
  },
  {
   "cell_type": "code",
   "execution_count": null,
   "id": "a3546c5b",
   "metadata": {},
   "outputs": [],
   "source": [
    "tools = [retriever_tool, search]\n",
    "#tools = [search]"
   ]
  },
  {
   "cell_type": "code",
   "execution_count": null,
   "id": "f5655d80",
   "metadata": {},
   "outputs": [],
   "source": [
    "!pip install langchainhub"
   ]
  },
  {
   "cell_type": "code",
   "execution_count": null,
   "id": "88e1de14",
   "metadata": {},
   "outputs": [],
   "source": [
    "from langchain_openai import ChatOpenAI\n",
    "from langchain import hub\n",
    "from langchain.agents import create_openai_functions_agent\n",
    "from langchain.agents import AgentExecutor\n",
    "\n",
    "# Get the prompt to use\n",
    "prompt = hub.pull(\"hwchase17/openai-functions-agent\")\n",
    "llm = ChatOpenAI(model=\"gpt-3.5-turbo\", temperature=0)\n",
    "agent = create_openai_functions_agent(llm, tools, prompt)\n",
    "agent_executor = AgentExecutor(agent=agent, tools=tools, verbose=True, handle_parsing_errors=True)"
   ]
  },
  {
   "cell_type": "code",
   "execution_count": null,
   "id": "ac39fde4",
   "metadata": {},
   "outputs": [],
   "source": [
    "agent_executor.invoke({\"input\": \"how can langsmith help with testing?\"})"
   ]
  },
  {
   "cell_type": "code",
   "execution_count": null,
   "id": "11218f5c",
   "metadata": {},
   "outputs": [],
   "source": [
    "agent_executor.invoke({\"input\": \"what is the weather in SF?\"})"
   ]
  },
  {
   "cell_type": "code",
   "execution_count": null,
   "id": "a89f0f5f",
   "metadata": {},
   "outputs": [],
   "source": [
    "chat_history = [HumanMessage(content=\"Can LangSmith help test my LLM applications?\"), AIMessage(content=\"Yes!\")]\n",
    "agent_executor.invoke({\n",
    "    \"chat_history\": chat_history,\n",
    "    \"input\": \"Tell me how\"\n",
    "})"
   ]
  },
  {
   "cell_type": "code",
   "execution_count": null,
   "id": "f4de205f",
   "metadata": {},
   "outputs": [],
   "source": []
  }
 ],
 "metadata": {
  "kernelspec": {
   "display_name": "Python 3 (ipykernel)",
   "language": "python",
   "name": "python3"
  },
  "language_info": {
   "codemirror_mode": {
    "name": "ipython",
    "version": 3
   },
   "file_extension": ".py",
   "mimetype": "text/x-python",
   "name": "python",
   "nbconvert_exporter": "python",
   "pygments_lexer": "ipython3",
   "version": "3.10.2"
  }
 },
 "nbformat": 4,
 "nbformat_minor": 5
}
