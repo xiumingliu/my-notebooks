{
 "cells": [
  {
   "cell_type": "markdown",
   "id": "142e7885",
   "metadata": {},
   "source": [
    "# Wikipedia-based Q&A using conversational RAG"
   ]
  },
  {
   "cell_type": "code",
   "execution_count": 1,
   "id": "6f42347e",
   "metadata": {},
   "outputs": [
    {
     "name": "stdout",
     "output_type": "stream",
     "text": [
      "Requirement already satisfied: lxml in /Users/xiumingliu/miniforge3/envs/myenv/lib/python3.10/site-packages (5.1.0)\r\n"
     ]
    }
   ],
   "source": [
    "!pip install lxml"
   ]
  },
  {
   "cell_type": "code",
   "execution_count": 2,
   "id": "041c56cb",
   "metadata": {},
   "outputs": [],
   "source": [
    "from dotenv import load_dotenv\n",
    "import os\n",
    "\n",
    "load_dotenv()\n",
    "\n",
    "# Access the OpenAI API key\n",
    "OPENAI_API_KEY = os.environ.get(\"OPENAI_API_KEY\")"
   ]
  },
  {
   "cell_type": "code",
   "execution_count": 3,
   "id": "4b98fd2f",
   "metadata": {},
   "outputs": [],
   "source": [
    "from langchain_text_splitters import HTMLHeaderTextSplitter\n",
    "from langchain_text_splitters import RecursiveCharacterTextSplitter\n",
    "\n",
    "url = \"https://en.wikipedia.org/wiki/Uppsala_University\"\n",
    "\n",
    "headers_to_split_on = [\n",
    "    (\"h1\", \"Header 1\"),\n",
    "    (\"h2\", \"Header 2\"),\n",
    "    (\"h3\", \"Header 3\"),\n",
    "    (\"h4\", \"Header 4\"),\n",
    "]\n",
    "\n",
    "html_splitter = HTMLHeaderTextSplitter(headers_to_split_on=headers_to_split_on)\n",
    "\n",
    "# for local file use html_splitter.split_text_from_file(<path_to_file>)\n",
    "html_header_splits = html_splitter.split_text_from_url(url)\n",
    "\n",
    "# When chunk_size = 500, len(document_splits) = 159 for UU wikipage \n",
    "# chunk_size = 5000 \n",
    "# chunk_overlap = 30\n",
    "# text_splitter = RecursiveCharacterTextSplitter(\n",
    "#     chunk_size=chunk_size, chunk_overlap=chunk_overlap\n",
    "# )\n",
    "\n",
    "# Split\n",
    "# document_splits = text_splitter.split_documents(html_header_splits)"
   ]
  },
  {
   "cell_type": "code",
   "execution_count": 4,
   "id": "ca1fb96b",
   "metadata": {},
   "outputs": [],
   "source": [
    "#print(html_header_splits[2:5])"
   ]
  },
  {
   "cell_type": "code",
   "execution_count": 5,
   "id": "622022ef",
   "metadata": {},
   "outputs": [],
   "source": [
    "#print(document_splits[20:25])"
   ]
  },
  {
   "cell_type": "code",
   "execution_count": 6,
   "id": "8b40aa33",
   "metadata": {},
   "outputs": [],
   "source": [
    "# len(document_splits)"
   ]
  },
  {
   "cell_type": "code",
   "execution_count": 7,
   "id": "4f494ee3",
   "metadata": {},
   "outputs": [],
   "source": [
    "from langchain_openai import OpenAIEmbeddings\n",
    "\n",
    "embeddings = OpenAIEmbeddings()"
   ]
  },
  {
   "cell_type": "code",
   "execution_count": 8,
   "id": "34288635",
   "metadata": {},
   "outputs": [],
   "source": [
    "from langchain_community.vectorstores import FAISS\n",
    "\n",
    "vector = FAISS.from_documents(html_header_splits, embeddings)"
   ]
  },
  {
   "cell_type": "code",
   "execution_count": 9,
   "id": "049b8439",
   "metadata": {},
   "outputs": [],
   "source": [
    "from langchain_openai import ChatOpenAI\n",
    "\n",
    "llm = ChatOpenAI(model=\"gpt-4\")"
   ]
  },
  {
   "cell_type": "code",
   "execution_count": 10,
   "id": "95622e94",
   "metadata": {},
   "outputs": [
    {
     "data": {
      "text/plain": [
       "AIMessage(content='There are 13 student nations at Uppsala University.', response_metadata={'finish_reason': 'stop', 'logprobs': None})"
      ]
     },
     "execution_count": 10,
     "metadata": {},
     "output_type": "execute_result"
    }
   ],
   "source": [
    "llm.invoke(\"How many nations are there at Uppsala University?\")"
   ]
  },
  {
   "cell_type": "code",
   "execution_count": 11,
   "id": "30def832",
   "metadata": {},
   "outputs": [],
   "source": [
    "from langchain_core.prompts import ChatPromptTemplate\n",
    "from langchain.chains import create_history_aware_retriever\n",
    "from langchain_core.prompts import MessagesPlaceholder \n",
    "\n",
    "\n",
    "# Frist we need a prompt that we can pass into an LLM to generate this search query\n",
    "prompt_search_query = ChatPromptTemplate.from_messages([\n",
    "    MessagesPlaceholder(variable_name=\"chat_history\"),\n",
    "    (\"user\", \"{input}\"), \n",
    "    (\"user\", \"Given the above conversation, generate a search query to look up in order to get information relevant to the conversation\")\n",
    "])\n",
    "\n",
    "retriever = vector.as_retriever()\n",
    "\n",
    "# A new chain takes in the most recent input and the coversation history and use an LLM to generate a search query\n",
    "retriever_chain = create_history_aware_retriever(llm, retriever, prompt_search_query)"
   ]
  },
  {
   "cell_type": "code",
   "execution_count": 12,
   "id": "a428cdc7",
   "metadata": {},
   "outputs": [
    {
     "data": {
      "text/plain": [
       "[Document(page_content='Up until June 2010, students at Uppsala University were obliged to become members of one of the nations, corporations of students traditionally according to the province of origin (not strictly upheld now, for practical reasons). The system of dividing students into nations according to origin can ultimately be traced back to the nations at the medieval University of Paris and other early medieval universities, but the Uppsala nations appear only about 1630–1640, most likely under influence of the Landsmannschaften which existed at some of the German universities visited by Swedish students. In Sweden, nations exist only in Uppsala and Lund. The nations were originally seen as subversive organisations promoting less virtuous aspects of student life, but in 1663 the consistory made membership in a nation legal, each nation being placed under the inspectorship of a professor.  \\nThe current thirteen nations all have a history stretching back to the early-to-mid 17th century, but some of them are the result of mergers of older, smaller nations that took place in the early 19th century to facilitate the financing of building projects.  \\nThe nations at Uppsala University are:  \\nStockholms nation Uplands nation Gästrike-Hälsinge nation Östgöta nation Västgöta nation  \\nSödermanlands-Nerikes nation Västmanlands-Dala nation Smålands nation Göteborgs nation Kalmar nation  \\nVärmlands nation Norrlands nation Gotlands nation  \\nSince the 1960s there is a fourteenth nation, the Skånelandens nation (referring to the Scanian lands) which has no membership fee and exists as a legal device to get around the compulsory membership for students who prefer not to become affiliated with the traditional nations. However, this nation was made redundant in 2010, when membership in a nation ceased to be mandatory.  \\nThe Uppsala Student Union was founded in 1849 as a corporation representing all students, irrespective of nation. The pharmaceutical institute became integrated in Uppsala university during 1968 and formed the Faculty of Pharmacy at Uppsala University, and the pharmaceutical educations moved to Uppsala university during 1972. At the same time, the Pharmaceutical Student Union (Pharmaceutical Association of Uppsala Students) became a Student Union at Uppsala University. The students at the faculty of Pharmacy were also exempt from compulsory membership in the nations, but most pharmacy students belonged to one. However, they were obliged to take up membership in the Pharmaceutical Student Union, an organisation having the same role as the nations and Uppsala Student union at the rest of the university.  \\nThe compulsory membership in a student union was abolished on 1 July 2010; however, the unions will still be representing organisations in the university boards and committees. The status as a student union will be decided upon by the university board for periods of three years at a time. On 20 February 2013, the university board decided that there will be four student unions at the university from July 2013 – June 2016: the Uppsala Student Union (for students at the faculties of Art, Social Sciences, Languages, Theology, Law, Educational Sciences and Medicine), the Pharmaceutical Student Union (for students at the Faculty of Pharmacy), the Uppsala Union of Engineering and Science Students (at the Faculty of Science and Technology), and Rindi (the union for students at Campus Gotland).[21] In February 2016, two additional associations were given the status as student unions: Uppsala Business & Economics Students Association (for students of economics) and Uppsala Law Student Associations (for students of law).[22] Thus, there are now six student unions at Uppsala university.[23]', metadata={'Header 1': 'Uppsala University', 'Header 2': 'Student life[edit]', 'Header 3': 'Nations and student union[edit]'}),\n",
       " Document(page_content=\"Uppsala University has signed student exchange agreements with about 400 universities across all parts of the world.[40] It takes part in the Erasmus programme and the Nordplus programme. It also benefits from its membership in the Coimbra Group of universities.  \\nIn May 2010 Uppsala joined the Matariki Network of Universities (MNU) together with Dartmouth College (USA), Durham University (UK), Queen's University (Canada), University of Otago (New Zealand), University of Tübingen (Germany), and University of Western Australia (Australia).[41]\", metadata={'Header 1': 'Uppsala University', 'Header 2': 'International cooperation[edit]'}),\n",
       " Document(page_content='Toggle the table of contents  \\n69 languages  \\nAfrikaansالعربيةԱրեւմտահայերէնAzərbaycancaتۆرکجهবাংলাБеларускаяБеларуская (тарашкевіца)БългарскиCatalàČeštinaDanskDeutschEestiΕλληνικάEspañolEsperantoEuskaraفارسیFrançaisFryskGaeilgeGàidhligGalego한국어Հայերենहिन्दीHrvatskiBahasa IndonesiaInterlinguaÍslenskaItalianoעבריתJawaქართულიLatinaLatviešuLietuviųMagyarმარგალურიمصرىNederlands日本語Norsk bokmålNorsk nynorskOʻzbekcha / ўзбекчаپنجابیPolskiPortuguêsRomânăРусскийShqipSimple EnglishSlovenčinaSlovenščinaSrpskohrvatski / српскохрватскиSuomiSvenskaTagalogதமிழ்Татарча / tatarçaไทยTürkçeУкраїнськаئۇيغۇرچە / UyghurcheTiếng Việt吴语粵語中文  \\nEdit links  \\nArticleTalk  \\nEnglish  \\nReadEditView history  \\nTools  \\nmove to sidebar hide  \\nTools  \\nActions  \\nReadEditView history  \\nGeneral  \\nWhat links hereRelated changesUpload fileSpecial pagesPermanent linkPage informationCite this pageGet shortened URLDownload QR codeWikidata item  \\nPrint/export  \\nDownload as PDFPrintable version  \\nIn other projects  \\nWikimedia Commons  \\nCoordinates: 59°51′27″N 17°37′44″E\\ufeff / \\ufeff59.85750°N 17.62889°E\\ufeff / 59.85750; 17.62889  \\nFrom Wikipedia, the free encyclopedia  \\nUppsala UniversityLatin: Universitas Regia UpsaliensisMottoGratiae veritas naturae (Latin)Truth through the grace of God and through nature[1]TypePublic research universityEstablished1477; 547\\xa0years ago\\xa0(1477)BudgetSEK 7.398 billion[2]Rector magnificusAnders Hagfeldt[3]4,135 FTE[2]2,150 FTE[2]Students52,241(28,289 FTE)[2]2,228[2]Location, CampusUrban / University townColours\\xa0 \\xa0Maroon, whiteAffiliationsCoimbra GroupEUA Matariki Network of UniversitiesGuild of European Research-Intensive UniversitiesWebsiteuu.se (in Swedish) University Hall History[edit] 15th century: Origins[edit] 16th century: Turbulent times[edit] Gustavianum, built 1622–1625 and now a museum. 17th century: Expansion[edit] Anders Celsius, astronomer and physicist. 18th century: Enlightenment and mercantilism[edit] King Gustav\\xa0III visits the university in 1786 Women at the university[edit] Administration and organisation[edit] Central administration[edit] Faculties[edit] Disciplinary Domain of Arts and Social Sciences[edit] Disciplinary Domain of Medicine and Pharmacy[edit] Disciplinary Domain of Science and Technology[edit] Other[edit] University Library[edit] Codex Argentus on display at Uppsala University Library The Carolina Rediviva, the main building of the university library, designed by Carl Fredrik Sundvall and completed in 1841. Uppsala University Hospital[edit] The old main building of the Uppsala University Hospital, photograph from c. 1920 The Svedberg Laboratory[edit] Campus[edit] Botanical Garden of Uppsala University University Park and Cathedral area[edit] West of central Uppsala[edit] Other locations in wider central Uppsala[edit] Building at Campus Polacksbacken South of central Uppsala[edit] Outside of Uppsala[edit] Student life[edit] Nations and student union[edit] Gästrike-Hälsinge nation Music[edit] Student singers march down the staircase in Carolina Rediviva, on the occasion of the 400th anniversary of the university in 1877. The \"staircase march\" (trappmarschen) when the singers led the audience in a march out of the hall where the concert was held, is an annual tradition that was later moved to the new main university building completed in 1887. (The monumental staircase of Carolina was later sacrificed to create more storage space for books.) Housing crisis[edit] Housing[edit] Athletics[edit] The exercitiae[edit] The Exercise Yard in c. 1770; contemporary engraving Other sports[edit] Rankings[edit] University rankingsGlobal – OverallARWU World[29]82 (2023)CWUR World[30]88 (2021–22)CWTS World[31]136 (2021)QS World[32]105 (2024)THE World[33]140 (2024)USNWR Global[34]113 (2022) Overall Rankings[edit] Rankings by subject/area[edit] Subject (only top100 are listed) Uppsala\\'s world rank Pharmacy & Pharmacology 24 Biological Sciences 52 Life Sciences & Medicine 77 Environmental Sciences 80 Chemistry 83 Sociology 91 Geography 51–100 Politics 51–100 Nursing 51–100 Archeology 51–100 Development Studies 51–100 History 51–100 Theology, Divinity, and Religious Studies 51–100 Broad Subject Area Uppsala\\'s world rank Life Sciences & Medicine 77 Natural Sciences 120 Arts and Humanities 151 Social Sciences & Management 216 Engineering & Technology 237 Subject Uppsala\\'s world rank Life Sciences 52 Social Sciences 101–125 Arts & Humanities 101–125 Physical Sciences 126–150 Clinical, Pre-clinical & Health 126–150 Business and Economics 251–300 Engineering & Technology 301–400 Notable people[edit] Botanist, physician and zoologist Carl Linnaeus Niklas Zennström, co-founder of KaZaA and Skype International cooperation[edit] In fiction and popular culture[edit] See also[edit] References[edit] Further reading[edit] External links[edit]  \\nResearch university in Uppsala, Sweden  \\nNot to be confused with Upsala College.  \\nUppsala universitet  \\nMotto in\\xa0English  \\nAcademic staff  \\nAdministrative staff  \\nDoctoral students  \\nUppsala  \\nSweden  \\nUppsala University (UU) (Swedish: Uppsala universitet) is a public research university in Uppsala, Sweden. Founded in 1477, it is the oldest university in Sweden and the Nordic countries still in operation.[4]  \\nInitially founded in the 15th century, the university rose to significance during the rise of Sweden as a great power at the end of the 16th century and was then given relative financial stability with a large donation from King Gustavus Adolphus in the early 17th century. Uppsala also has an important historical place in Swedish national culture, and identity for the Swedish establishment: in historiography, religion, literature, politics, and music. Many aspects of Swedish academic culture in general, such as the white student cap, originated in Uppsala. It shares some peculiarities, such as the student nation system, with Lund University and the University of Helsinki.  \\nUppsala belongs to the Coimbra Group of European universities and to the Guild of European Research-Intensive Universities.[5] It has ranked among the world\\'s 100 best universities in several international rankings.[6][7][8]  \\nThe university has nine faculties distributed over three disciplinary domains: Humanities and Social Sciences, Medicine and Pharmacy, and Science and Technology. As of 2020[update], it had approximately 52,000 registered students at the undergraduate and postgraduate levels and 2,200 PhD students.[2]  \\nArchitecturally, Uppsala University has traditionally had a strong presence in Fjärdingen, the neighbourhood around the cathedral on the western side of the river Fyris. Despite some contemporary building developments further away from the centre, Uppsala\\'s historic centre continues to be dominated by the presence of the university.[9]', metadata={'Header 1': 'Uppsala University'}),\n",
       " Document(page_content='Main article: List of Uppsala University People  \\nUppsala University is associated with 8 Nobel Prize laureates,[39] and numerous royalty, academics and public figures.  \\nAs the dominant academic institution in Sweden for several centuries, Uppsala University has educated a large proportion of Swedish politicians and civil servants ever since its first period of expansion in the early part of the 17th century. These range from Chancellor of the Realm (rikskansler) Johan Oxenstierna (1611–1657) and Lord Chief Justice (riksdrots) Magnus Gabriel De la Gardie (1622–1686) to the first Social Democratic Prime Minister of Sweden, Hjalmar Branting (1860–1925). Other alumni are Dag Hammarskjöld (1905–1961), United Nations Secretary General who was (posthumously) awarded the Nobel Peace Prize in 1961, and the Swedish diplomat Hans Blix (born 1928), who was Head of the International Atomic Energy Agency 1981–1997, of the UNMOVIC 2000–2003, and previously Swedish Minister of Foreign Affairs 1978–1979. Hammarskjöld and Blix both graduated from the Uppsala Faculty of Law, as did the Swedish Minister of Foreign Affairs Anna Lindh, who was assassinated in 2003.  \\nMost Swedish clergymen, including most bishops and archbishops, have been educated at the university, including, in more recent times, Nathan Söderblom (1866–1931), Professor of the History of Religions in the Faculty of Theology, later Archbishop of Uppsala, and awarded the Nobel Peace Prize in 1930 for his work as leader of the ecumenical movement.  \\nThe university became prominent in the sciences in the 18th century with names such as the physician and botanist Carl Linnaeus (1707–1778), the father of biological and mineralogical taxonomy, and his numerous important pupils, the physicist and astronomer Anders Celsius (1701–1744), inventor of the Celsius scale the predecessor of the Celsius scale, and the chemist Torbern Bergman (1735–1784). Another scientist from this era is Emanuel Swedenborg (1688–1772), better remembered today as a religious mystic. The university played an important role in the Swedish agricultural revolution of the 18th century; Jacob Faggot, the initiator of the reforms, studied at Uppsala. Several of the elements were discovered by Uppsala scientists during this period or later. Jöns Jakob Berzelius, one of the fathers of modern chemistry, received his doctorate in medicine in Uppsala in 1804, but later moved to Stockholm. Uppsala scientists of the 19th century include the physicist Anders Jonas Ångström (1814–1874). During the 20th century, several Nobel laureates in the sciences have been Uppsala alumni or professors at the university.  \\nMany well-known Swedish writers have studied in Uppsala: Georg Stiernhielm (1598–1672) is often called the father of Swedish poetry. The poet and song composer Carl Michael Bellman (1740–1795), without doubt, the best-loved and best-remembered Swedish 18th-century poet, matriculated but left the university after less than a year. The writer, historian and composer Erik Gustaf Geijer (1783–1847), professor of history, and the poet Per Daniel Amadeus Atterbom (1790–1855), professor of poetry, were principal figures of early 19th-century Swedish romanticism. The less than happy experiences of the Uppsala student life of novelist and playwright August Strindberg (1849–1912), resulted in his Från Fjärdingen och Svartbäcken (1877), a collection of short stories set in Uppsala (\"From Fjärdingen and Svartbäcken,\" the title refers to two districts in Uppsala). Other Uppsala alumni are the poet Erik Axel Karlfeldt (1864–1931), who refused the Nobel Prize for Literature in 1918 but received it posthumously in 1931, the novelist and playwright Pär Lagerkvist (1891–1974), Nobel laureate in 1951, and the poet and novelist Karin Boye (1900–1941), for whom one branch of the university library has been named. The Communist leader Ture Nerman (1886–1969) wrote a novel called Olympen, based on his experience as a student in Uppsala.', metadata={'Header 1': 'Uppsala University', 'Header 2': 'Notable people[edit]'})]"
      ]
     },
     "execution_count": 12,
     "metadata": {},
     "output_type": "execute_result"
    }
   ],
   "source": [
    "# Test retriever chain\n",
    "retriever_chain.invoke({\n",
    "    \"chat_history\": [], \n",
    "    \"input\": \"How many nations are there at Uppsala University?\"\n",
    "})"
   ]
  },
  {
   "cell_type": "code",
   "execution_count": 13,
   "id": "b34a5110",
   "metadata": {},
   "outputs": [],
   "source": [
    "from langchain.chains import create_retrieval_chain\n",
    "from langchain.chains.combine_documents import create_stuff_documents_chain\n",
    "\n",
    "# Create a new chain to continue the conversation with these retrieved documents in mind\n",
    "prompt_answer = ChatPromptTemplate.from_messages([\n",
    "    (\"system\", \"Answer the user's quesitions based on the below context:\\n\\n{context}\"), \n",
    "    MessagesPlaceholder(variable_name=\"chat_history\"),\n",
    "    (\"user\", \"{input}\"),\n",
    "])\n",
    "document_chain = create_stuff_documents_chain(llm, prompt_answer)\n",
    "\n",
    "retrieval_chain = create_retrieval_chain(retriever_chain, document_chain)"
   ]
  },
  {
   "cell_type": "code",
   "execution_count": 14,
   "id": "7d299dc1",
   "metadata": {},
   "outputs": [
    {
     "name": "stdout",
     "output_type": "stream",
     "text": [
      "There are thirteen traditional nations at Uppsala University. However, since the 1960s there was a fourteenth nation, the Skånelandens nation, which was made redundant in 2010.\n"
     ]
    }
   ],
   "source": [
    "from langchain_core.messages import AIMessage, HumanMessage\n",
    "\n",
    "chat_history = []\n",
    "human_input = \"How many nations are there at Uppsala University?\"\n",
    "\n",
    "ai_msg = retrieval_chain.invoke({\n",
    "    \"chat_history\": chat_history,\n",
    "    \"input\": human_input})\n",
    "print(ai_msg[\"answer\"])\n",
    "\n",
    "chat_history.extend([HumanMessage(content=human_input), AIMessage(content=ai_msg['answer'])])"
   ]
  },
  {
   "cell_type": "code",
   "execution_count": 15,
   "id": "e3413ea6",
   "metadata": {},
   "outputs": [
    {
     "data": {
      "text/plain": [
       "[HumanMessage(content='How many nations are there at Uppsala University?'),\n",
       " AIMessage(content='There are thirteen traditional nations at Uppsala University. However, since the 1960s there was a fourteenth nation, the Skånelandens nation, which was made redundant in 2010.')]"
      ]
     },
     "execution_count": 15,
     "metadata": {},
     "output_type": "execute_result"
    }
   ],
   "source": [
    "chat_history"
   ]
  },
  {
   "cell_type": "code",
   "execution_count": 16,
   "id": "ea36509a",
   "metadata": {},
   "outputs": [
    {
     "data": {
      "text/plain": [
       "[Document(page_content='Up until June 2010, students at Uppsala University were obliged to become members of one of the nations, corporations of students traditionally according to the province of origin (not strictly upheld now, for practical reasons). The system of dividing students into nations according to origin can ultimately be traced back to the nations at the medieval University of Paris and other early medieval universities, but the Uppsala nations appear only about 1630–1640, most likely under influence of the Landsmannschaften which existed at some of the German universities visited by Swedish students. In Sweden, nations exist only in Uppsala and Lund. The nations were originally seen as subversive organisations promoting less virtuous aspects of student life, but in 1663 the consistory made membership in a nation legal, each nation being placed under the inspectorship of a professor.  \\nThe current thirteen nations all have a history stretching back to the early-to-mid 17th century, but some of them are the result of mergers of older, smaller nations that took place in the early 19th century to facilitate the financing of building projects.  \\nThe nations at Uppsala University are:  \\nStockholms nation Uplands nation Gästrike-Hälsinge nation Östgöta nation Västgöta nation  \\nSödermanlands-Nerikes nation Västmanlands-Dala nation Smålands nation Göteborgs nation Kalmar nation  \\nVärmlands nation Norrlands nation Gotlands nation  \\nSince the 1960s there is a fourteenth nation, the Skånelandens nation (referring to the Scanian lands) which has no membership fee and exists as a legal device to get around the compulsory membership for students who prefer not to become affiliated with the traditional nations. However, this nation was made redundant in 2010, when membership in a nation ceased to be mandatory.  \\nThe Uppsala Student Union was founded in 1849 as a corporation representing all students, irrespective of nation. The pharmaceutical institute became integrated in Uppsala university during 1968 and formed the Faculty of Pharmacy at Uppsala University, and the pharmaceutical educations moved to Uppsala university during 1972. At the same time, the Pharmaceutical Student Union (Pharmaceutical Association of Uppsala Students) became a Student Union at Uppsala University. The students at the faculty of Pharmacy were also exempt from compulsory membership in the nations, but most pharmacy students belonged to one. However, they were obliged to take up membership in the Pharmaceutical Student Union, an organisation having the same role as the nations and Uppsala Student union at the rest of the university.  \\nThe compulsory membership in a student union was abolished on 1 July 2010; however, the unions will still be representing organisations in the university boards and committees. The status as a student union will be decided upon by the university board for periods of three years at a time. On 20 February 2013, the university board decided that there will be four student unions at the university from July 2013 – June 2016: the Uppsala Student Union (for students at the faculties of Art, Social Sciences, Languages, Theology, Law, Educational Sciences and Medicine), the Pharmaceutical Student Union (for students at the Faculty of Pharmacy), the Uppsala Union of Engineering and Science Students (at the Faculty of Science and Technology), and Rindi (the union for students at Campus Gotland).[21] In February 2016, two additional associations were given the status as student unions: Uppsala Business & Economics Students Association (for students of economics) and Uppsala Law Student Associations (for students of law).[22] Thus, there are now six student unions at Uppsala university.[23]', metadata={'Header 1': 'Uppsala University', 'Header 2': 'Student life[edit]', 'Header 3': 'Nations and student union[edit]'}),\n",
       " Document(page_content=\"Uppsala University has signed student exchange agreements with about 400 universities across all parts of the world.[40] It takes part in the Erasmus programme and the Nordplus programme. It also benefits from its membership in the Coimbra Group of universities.  \\nIn May 2010 Uppsala joined the Matariki Network of Universities (MNU) together with Dartmouth College (USA), Durham University (UK), Queen's University (Canada), University of Otago (New Zealand), University of Tübingen (Germany), and University of Western Australia (Australia).[41]\", metadata={'Header 1': 'Uppsala University', 'Header 2': 'International cooperation[edit]'}),\n",
       " Document(page_content='Retrieved from \"https://en.wikipedia.org/w/index.php?title=Uppsala_University&oldid=1208453494\"  \\nCategories:  \\nUppsala UniversityUniversities in Sweden1477 establishments in EuropeEducational institutions established in the 15th centuryUniversities and colleges in Uppsala  \\nHidden categories:  \\nWebarchive template wayback linksCS1 Swedish-language sources (sv)Articles with short descriptionShort description matches WikidataUse dmy dates from October 2022Articles containing Latin-language textArticles with Swedish-language sources (sv)Articles using infobox universityPages using infobox university with the image name parameterPages using infobox university with the affiliations parameterArticles containing Swedish-language textArticles containing potentially dated statements from 2020All articles containing potentially dated statementsArticles needing additional references from October 2012All articles needing additional referencesArticles containing potentially dated statements from 2003Articles containing potentially dated statements from 2004All articles with unsourced statementsArticles with unsourced statements from October 2015Articles using infobox templates with no data rowsCommons link is defined as the pagenameOfficial website different in Wikidata and WikipediaCoordinates on WikidataArticles with ISNI identifiersArticles with VIAF identifiersArticles with BIBSYS identifiersArticles with BNF identifiersArticles with BNFdata identifiersArticles with GND identifiersArticles with J9U identifiersArticles with KANTO identifiersArticles with LCCN identifiersArticles with Libris identifiersArticles with LNB identifiersArticles with NKC identifiersArticles with NLA identifiersArticles with NLG identifiersArticles with NSK identifiersArticles with PLWABN identifiersArticles with PortugalA identifiersArticles with VcBA identifiersArticles with CINII identifiersArticles with ULAN identifiersArticles with ISIL identifiersArticles with Trove identifiersArticles with SUDOC identifiers', metadata={'Header 1': 'Uppsala University'}),\n",
       " Document(page_content='^ \"Uppsala University – Academic symbols\". Uppsala University. Retrieved 28 June 2018. ^ a b c d e f \"Quick facts about Uppsala University\". Uppsala University. Retrieved 28 July 2021. ^ University Management Archived 13 January 2018 at the Wayback Machine, Uppsala University, retrieved 25 January 2021 ^ Ridder-Symoens, Hilde de. A History of the University in Europe. Cambridge University Press, 2003. p. 84. ^ \"Members – The Guild\". The Guild. Retrieved 20 April 2017. ^ \"Uppsala University in International Rankings\". Uppsala University. Retrieved 20 April 2017. ^ \"Shanghai Ranking-Universities\". shanghairanking.com. Retrieved 23 July 2021. ^ \"University | Ranking Web of Universities: Webometrics ranks 30000 institutions\". webometrics.info. Retrieved 23 July 2021. ^ a b Sten Lindroth. A History of Uppsala University: 1477–1977. Almqvist & Wiksell International (1976). ^ UU, Webbredaktionen. \"History – Uppsala University, Sweden\". www.uu.se. Retrieved 10 March 2023. ^ \"Uppsala University | university, Uppsala, Sweden | Britannica\". www.britannica.com. Retrieved 10 March 2023. ^ Naylor, David. \"The history of Uppsala University – a brief summary – Uppsala University, Sweden\". www.uu.se. Retrieved 10 March 2023. ^ Naylor, David. \"The history of Uppsala University – a brief summary – Uppsala University, Sweden\". www.uu.se. Retrieved 10 March 2023. ^ www.uu.se/en/disciplinary-domain ^ www.uu.se/en/faculty ^ universitet, Juridiska fakulteten | Uppsala. \"Om fakulteten\". jur.uu.se. Archived from the original on 4 November 2016. Retrieved 4 November 2016. ^ \"Forum for South Asia Studies\". Uppsala Universitet. Archived from the original on 2 February 2014. Retrieved 21 January 2014. ^ The Svedberg Laboratory main page Archived 18 June 2012 at the Wayback Machine. Retrieved July 2012 ^ The Svedberg Laboratory, proton therapy page Archived 24 April 2012 at the Wayback Machine. Retrieved July 2012 ^ \"News & Articles\". NAPT. ^ Waara, Anneli. \"Studentkårer utsedda av konsistoriet – Uppsala universitet\". uu.se. ^ Lille, Lotta (22 February 1916). \"Två nya studentkårer i Uppsala – Upsala Nya Tidning\". unt.se (in Swedish). Retrieved 22 October 2020. ^ \"Student unions – Uppsala University, Sweden\". uu.se. Retrieved 22 October 2020. ^ \"Student housing shortage worse than ever\". Retrieved 3 October 2010. ^ \"Homeless in Uppsala: a foreign student\\'s tale\". Retrieved 3 October 2010. ^ \"Tufft att hitta studentboende\". Retrieved 22 February 2012. ^ \"Hårdare bostadskontroller\". Retrieved 3 April 2014. ^ \"Upsala Fäktning\". Upsala Fäktning. ^ \"Academic Ranking of World Universities 2023\". shanghairanking.com. ^ \"World University Rankings 2021–2022\". Center for World University Rankingsg. Retrieved 15 February 2022. ^ (CWTS), Centre for Science and Technology Studies. \"CWTS Leiden Ranking 2021\". CWTS Leiden Ranking. Retrieved 15 February 2022. ^ \"QS World University Rankings 2022\". Top Universities. ^ \"World University Rankings 2023\". Times Higher Education (THE). Retrieved 20 July 2023. ^ \"U.S. News Education: Best Global Universities 2022\". ^ \"QS Top Universities: Schools\". Archived from the original on 19 July 2008. ^ \"Uppsala University – Academic Ranking of World Universities – 2018 – Shanghai Ranking – 2018\". shanghairanking.com. ^ \"Most international universities in the world\". Student. 28 January 2021. Retrieved 26 July 2021. ^ \"Uppsala University\". Top Universities. Retrieved 26 July 2021. ^ \"Eight Nobel laureates have been connected with the Uppsala University\". Archived from the original on 20 June 2010. Retrieved 12 June 2010. ^ \"Uppsala University international office (Swedish)\". Archived from the original on 28 March 2010. Retrieved 24 June 2010. ^ \"Matariki Network of Universities: Home\". Matariki Network. ^ Eduard Fritzler (17 August 2008). \"Kirsti – Ein Student aus Uppsala (mit Text und High Quali)\". Archived from the original on 11 December 2021 – via YouTube.', metadata={'Header 1': 'Uppsala University', 'Header 2': 'References[edit]'})]"
      ]
     },
     "execution_count": 16,
     "metadata": {},
     "output_type": "execute_result"
    }
   ],
   "source": [
    "# Test retriever chain\n",
    "retriever_chain.invoke({\n",
    "    \"chat_history\": chat_history, \n",
    "    \"input\": \"Is it mandatory to join a nation?\"\n",
    "})"
   ]
  },
  {
   "cell_type": "code",
   "execution_count": 17,
   "id": "adeb7064",
   "metadata": {},
   "outputs": [
    {
     "name": "stdout",
     "output_type": "stream",
     "text": [
      "No, it is not mandatory to join a nation. Up until June 2010, students at Uppsala University were obliged to join one of the nations. However, this requirement was abolished in 2010.\n"
     ]
    }
   ],
   "source": [
    "human_input = \"Is it mandatory to join a nation?\"\n",
    "\n",
    "ai_msg = retrieval_chain.invoke({\n",
    "    \"chat_history\": chat_history,\n",
    "    \"input\": human_input})\n",
    "print(ai_msg[\"answer\"])\n",
    "\n",
    "chat_history.extend([HumanMessage(content=human_input), AIMessage(content=ai_msg['answer'])])"
   ]
  },
  {
   "cell_type": "code",
   "execution_count": 18,
   "id": "ea4e80ce",
   "metadata": {},
   "outputs": [
    {
     "data": {
      "text/plain": [
       "[HumanMessage(content='How many nations are there at Uppsala University?'),\n",
       " AIMessage(content='There are thirteen traditional nations at Uppsala University. However, since the 1960s there was a fourteenth nation, the Skånelandens nation, which was made redundant in 2010.'),\n",
       " HumanMessage(content='Is it mandatory to join a nation?'),\n",
       " AIMessage(content='No, it is not mandatory to join a nation. Up until June 2010, students at Uppsala University were obliged to join one of the nations. However, this requirement was abolished in 2010.')]"
      ]
     },
     "execution_count": 18,
     "metadata": {},
     "output_type": "execute_result"
    }
   ],
   "source": [
    "chat_history"
   ]
  },
  {
   "cell_type": "code",
   "execution_count": 19,
   "id": "973f67fa",
   "metadata": {},
   "outputs": [
    {
     "name": "stdout",
     "output_type": "stream",
     "text": [
      "The compulsory membership in a student union ended on 1 July 2010.\n"
     ]
    }
   ],
   "source": [
    "human_input = \"When did the compulsory membership end?\"\n",
    "\n",
    "ai_msg = retrieval_chain.invoke({\n",
    "    \"chat_history\": chat_history,\n",
    "    \"input\": human_input})\n",
    "print(ai_msg[\"answer\"])\n",
    "\n",
    "chat_history.extend([HumanMessage(content=human_input), AIMessage(content=ai_msg['answer'])])"
   ]
  },
  {
   "cell_type": "code",
   "execution_count": null,
   "id": "19ab1688",
   "metadata": {},
   "outputs": [],
   "source": []
  }
 ],
 "metadata": {
  "kernelspec": {
   "display_name": "Python 3 (ipykernel)",
   "language": "python",
   "name": "python3"
  },
  "language_info": {
   "codemirror_mode": {
    "name": "ipython",
    "version": 3
   },
   "file_extension": ".py",
   "mimetype": "text/x-python",
   "name": "python",
   "nbconvert_exporter": "python",
   "pygments_lexer": "ipython3",
   "version": "3.10.2"
  }
 },
 "nbformat": 4,
 "nbformat_minor": 5
}
